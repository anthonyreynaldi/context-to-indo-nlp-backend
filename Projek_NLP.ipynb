{
  "nbformat": 4,
  "nbformat_minor": 0,
  "metadata": {
    "colab": {
      "provenance": [],
      "gpuType": "T4",
      "toc_visible": true,
      "include_colab_link": true
    },
    "kernelspec": {
      "name": "python3",
      "display_name": "Python 3"
    },
    "language_info": {
      "name": "python"
    }
  },
  "cells": [
    {
      "cell_type": "markdown",
      "metadata": {
        "id": "view-in-github",
        "colab_type": "text"
      },
      "source": [
        "<a href=\"https://colab.research.google.com/github/anthonyreynaldi/context-to-indo-nlp-backend/blob/main/Projek_NLP.ipynb\" target=\"_parent\"><img src=\"https://colab.research.google.com/assets/colab-badge.svg\" alt=\"Open In Colab\"/></a>"
      ]
    },
    {
      "cell_type": "markdown",
      "source": [
        "### COBA COBA"
      ],
      "metadata": {
        "id": "GVET6i_yfzYy"
      }
    },
    {
      "cell_type": "code",
      "source": [
        "!wget https://downloads.wortschatz-leipzig.de/corpora/ind_wikipedia_2021_10K.tar.gz"
      ],
      "metadata": {
        "colab": {
          "base_uri": "https://localhost:8080/"
        },
        "id": "LBYebZwfpdRT",
        "outputId": "0f668906-5950-464c-b7f8-258fd519de71"
      },
      "execution_count": null,
      "outputs": [
        {
          "output_type": "stream",
          "name": "stdout",
          "text": [
            "--2023-06-07 02:18:26--  https://downloads.wortschatz-leipzig.de/corpora/ind_wikipedia_2021_10K.tar.gz\n",
            "Resolving downloads.wortschatz-leipzig.de (downloads.wortschatz-leipzig.de)... 139.18.2.216\n",
            "Connecting to downloads.wortschatz-leipzig.de (downloads.wortschatz-leipzig.de)|139.18.2.216|:443... connected.\n",
            "HTTP request sent, awaiting response... 200 OK\n",
            "Length: 2030678 (1.9M) [application/x-gzip]\n",
            "Saving to: ‘ind_wikipedia_2021_10K.tar.gz’\n",
            "\n",
            "ind_wikipedia_2021_ 100%[===================>]   1.94M  1.31MB/s    in 1.5s    \n",
            "\n",
            "2023-06-07 02:18:29 (1.31 MB/s) - ‘ind_wikipedia_2021_10K.tar.gz’ saved [2030678/2030678]\n",
            "\n"
          ]
        }
      ]
    },
    {
      "cell_type": "code",
      "source": [
        "!tar -xvzf ind_wikipedia_2021_10K.tar.gz"
      ],
      "metadata": {
        "colab": {
          "base_uri": "https://localhost:8080/"
        },
        "id": "vJ5gAvVDphrZ",
        "outputId": "49b8e6af-ea3c-4903-b15f-81ade508ec11"
      },
      "execution_count": null,
      "outputs": [
        {
          "output_type": "stream",
          "name": "stdout",
          "text": [
            "ind_wikipedia_2021_10K/\n",
            "ind_wikipedia_2021_10K/ind_wikipedia_2021_10K-co_n.txt\n",
            "ind_wikipedia_2021_10K/ind_wikipedia_2021_10K-words.txt\n",
            "ind_wikipedia_2021_10K/ind_wikipedia_2021_10K-sources.txt\n",
            "ind_wikipedia_2021_10K/ind_wikipedia_2021_10K-import.sql\n",
            "ind_wikipedia_2021_10K/ind_wikipedia_2021_10K-inv_w.txt\n",
            "ind_wikipedia_2021_10K/ind_wikipedia_2021_10K-sentences.txt\n",
            "ind_wikipedia_2021_10K/ind_wikipedia_2021_10K-co_s.txt\n",
            "ind_wikipedia_2021_10K/ind_wikipedia_2021_10K-inv_so.txt\n"
          ]
        }
      ]
    },
    {
      "cell_type": "markdown",
      "source": [
        "### Mount Drive"
      ],
      "metadata": {
        "id": "j3xF9Dv1riJT"
      }
    },
    {
      "cell_type": "code",
      "source": [
        "from google.colab import drive\n",
        "drive.mount('/content/drive')"
      ],
      "metadata": {
        "colab": {
          "base_uri": "https://localhost:8080/"
        },
        "id": "C-MxI8nyrhAj",
        "outputId": "a7fb1726-8fd0-4413-be4d-890f63a1b062"
      },
      "execution_count": null,
      "outputs": [
        {
          "output_type": "stream",
          "name": "stdout",
          "text": [
            "Mounted at /content/drive\n"
          ]
        }
      ]
    },
    {
      "cell_type": "markdown",
      "source": [
        "### Download Corpus"
      ],
      "metadata": {
        "id": "CbVrltMPlF0d"
      }
    },
    {
      "cell_type": "markdown",
      "source": [
        "Corpus diambil dari dataset wikipedia"
      ],
      "metadata": {
        "id": "WfWbpYM3lI2-"
      }
    },
    {
      "cell_type": "code",
      "source": [
        "!wget https://downloads.wortschatz-leipzig.de/corpora/ind_wikipedia_2021_1M.tar.gz"
      ],
      "metadata": {
        "colab": {
          "base_uri": "https://localhost:8080/"
        },
        "id": "7_pEiZXBrI9X",
        "outputId": "f4c85de7-4eee-4c8a-a066-d33f50761567"
      },
      "execution_count": null,
      "outputs": [
        {
          "output_type": "stream",
          "name": "stdout",
          "text": [
            "--2023-06-09 16:16:51--  https://downloads.wortschatz-leipzig.de/corpora/ind_wikipedia_2021_1M.tar.gz\n",
            "Resolving downloads.wortschatz-leipzig.de (downloads.wortschatz-leipzig.de)... 139.18.2.216\n",
            "Connecting to downloads.wortschatz-leipzig.de (downloads.wortschatz-leipzig.de)|139.18.2.216|:443... connected.\n",
            "HTTP request sent, awaiting response... 200 OK\n",
            "Length: 207297373 (198M) [application/x-gzip]\n",
            "Saving to: ‘ind_wikipedia_2021_1M.tar.gz’\n",
            "\n",
            "ind_wikipedia_2021_ 100%[===================>] 197.69M  13.7MB/s    in 16s     \n",
            "\n",
            "2023-06-09 16:17:08 (12.3 MB/s) - ‘ind_wikipedia_2021_1M.tar.gz’ saved [207297373/207297373]\n",
            "\n"
          ]
        }
      ]
    },
    {
      "cell_type": "code",
      "source": [
        "!tar -xvzf ind_wikipedia_2021_1M.tar.gz"
      ],
      "metadata": {
        "colab": {
          "base_uri": "https://localhost:8080/"
        },
        "id": "r1RCj-YorOce",
        "outputId": "1ad2aec8-b317-4db5-a4aa-af86440a2825"
      },
      "execution_count": null,
      "outputs": [
        {
          "output_type": "stream",
          "name": "stdout",
          "text": [
            "ind_wikipedia_2021_1M/\n",
            "ind_wikipedia_2021_1M/ind_wikipedia_2021_1M-inv_so.txt\n",
            "ind_wikipedia_2021_1M/ind_wikipedia_2021_1M-sentences.txt\n",
            "ind_wikipedia_2021_1M/ind_wikipedia_2021_1M-import.sql\n",
            "ind_wikipedia_2021_1M/ind_wikipedia_2021_1M-co_n.txt\n",
            "ind_wikipedia_2021_1M/ind_wikipedia_2021_1M-co_s.txt\n",
            "ind_wikipedia_2021_1M/ind_wikipedia_2021_1M-words.txt\n",
            "ind_wikipedia_2021_1M/ind_wikipedia_2021_1M-inv_w.txt\n",
            "ind_wikipedia_2021_1M/ind_wikipedia_2021_1M-sources.txt\n"
          ]
        }
      ]
    },
    {
      "cell_type": "markdown",
      "source": [
        "### Preprocess Corpus\n"
      ],
      "metadata": {
        "id": "CCDyj7VIf2QC"
      }
    },
    {
      "cell_type": "markdown",
      "source": [
        "Read from txt and convert to csv"
      ],
      "metadata": {
        "id": "D9HNCOUIpjYg"
      }
    },
    {
      "cell_type": "code",
      "source": [
        "import csv"
      ],
      "metadata": {
        "id": "nJKW2HImpDw0"
      },
      "execution_count": null,
      "outputs": []
    },
    {
      "cell_type": "code",
      "source": [
        "text_corpus = []\n",
        "with open('ind_wikipedia_2021_1M/ind_wikipedia_2021_1M-sentences.txt') as f:\n",
        "  text_corpus = f.readlines()"
      ],
      "metadata": {
        "id": "mdyHXaxnl-vx"
      },
      "execution_count": null,
      "outputs": []
    },
    {
      "cell_type": "code",
      "source": [
        "with open('output.csv', 'w', newline='', encoding='utf-8') as csv_file:\n",
        "    writer = csv.writer(csv_file)\n",
        "    for line in text_corpus:\n",
        "        writer.writerow([line.strip()])"
      ],
      "metadata": {
        "id": "7iDEWCCwonVC"
      },
      "execution_count": null,
      "outputs": []
    },
    {
      "cell_type": "markdown",
      "source": [
        "Load csv file to pandas dataframe"
      ],
      "metadata": {
        "id": "C0rUKfUCGmrM"
      }
    },
    {
      "cell_type": "code",
      "source": [
        "import pandas as pd"
      ],
      "metadata": {
        "id": "vRZGEkBdGgM6"
      },
      "execution_count": null,
      "outputs": []
    },
    {
      "cell_type": "code",
      "source": [
        "data = pd.read_csv('output.csv', header=None)\n",
        "data.columns = [\"text\"]"
      ],
      "metadata": {
        "id": "T3a3uElqGgM8"
      },
      "execution_count": null,
      "outputs": []
    },
    {
      "cell_type": "code",
      "source": [
        "data"
      ],
      "metadata": {
        "colab": {
          "base_uri": "https://localhost:8080/",
          "height": 424
        },
        "outputId": "83c32d7b-2e12-406b-859f-60f730b1ac35",
        "id": "-_alfq5TGgM9"
      },
      "execution_count": null,
      "outputs": [
        {
          "output_type": "execute_result",
          "data": {
            "text/plain": [
              "                text\n",
              "0              A (n)\n",
              "1             ab (n)\n",
              "2            aba (n)\n",
              "3        aba-aba (n)\n",
              "4           abad (n)\n",
              "...              ...\n",
              "28521  Zulkaidah (n)\n",
              "28522     zulmat (n)\n",
              "28523    zurafah (n)\n",
              "28524     zuriah (n)\n",
              "28525        zus (n)\n",
              "\n",
              "[28526 rows x 1 columns]"
            ],
            "text/html": [
              "\n",
              "  <div id=\"df-8b862074-5cff-46da-a15d-81534e43a7ae\">\n",
              "    <div class=\"colab-df-container\">\n",
              "      <div>\n",
              "<style scoped>\n",
              "    .dataframe tbody tr th:only-of-type {\n",
              "        vertical-align: middle;\n",
              "    }\n",
              "\n",
              "    .dataframe tbody tr th {\n",
              "        vertical-align: top;\n",
              "    }\n",
              "\n",
              "    .dataframe thead th {\n",
              "        text-align: right;\n",
              "    }\n",
              "</style>\n",
              "<table border=\"1\" class=\"dataframe\">\n",
              "  <thead>\n",
              "    <tr style=\"text-align: right;\">\n",
              "      <th></th>\n",
              "      <th>text</th>\n",
              "    </tr>\n",
              "  </thead>\n",
              "  <tbody>\n",
              "    <tr>\n",
              "      <th>0</th>\n",
              "      <td>A (n)</td>\n",
              "    </tr>\n",
              "    <tr>\n",
              "      <th>1</th>\n",
              "      <td>ab (n)</td>\n",
              "    </tr>\n",
              "    <tr>\n",
              "      <th>2</th>\n",
              "      <td>aba (n)</td>\n",
              "    </tr>\n",
              "    <tr>\n",
              "      <th>3</th>\n",
              "      <td>aba-aba (n)</td>\n",
              "    </tr>\n",
              "    <tr>\n",
              "      <th>4</th>\n",
              "      <td>abad (n)</td>\n",
              "    </tr>\n",
              "    <tr>\n",
              "      <th>...</th>\n",
              "      <td>...</td>\n",
              "    </tr>\n",
              "    <tr>\n",
              "      <th>28521</th>\n",
              "      <td>Zulkaidah (n)</td>\n",
              "    </tr>\n",
              "    <tr>\n",
              "      <th>28522</th>\n",
              "      <td>zulmat (n)</td>\n",
              "    </tr>\n",
              "    <tr>\n",
              "      <th>28523</th>\n",
              "      <td>zurafah (n)</td>\n",
              "    </tr>\n",
              "    <tr>\n",
              "      <th>28524</th>\n",
              "      <td>zuriah (n)</td>\n",
              "    </tr>\n",
              "    <tr>\n",
              "      <th>28525</th>\n",
              "      <td>zus (n)</td>\n",
              "    </tr>\n",
              "  </tbody>\n",
              "</table>\n",
              "<p>28526 rows × 1 columns</p>\n",
              "</div>\n",
              "      <button class=\"colab-df-convert\" onclick=\"convertToInteractive('df-8b862074-5cff-46da-a15d-81534e43a7ae')\"\n",
              "              title=\"Convert this dataframe to an interactive table.\"\n",
              "              style=\"display:none;\">\n",
              "        \n",
              "  <svg xmlns=\"http://www.w3.org/2000/svg\" height=\"24px\"viewBox=\"0 0 24 24\"\n",
              "       width=\"24px\">\n",
              "    <path d=\"M0 0h24v24H0V0z\" fill=\"none\"/>\n",
              "    <path d=\"M18.56 5.44l.94 2.06.94-2.06 2.06-.94-2.06-.94-.94-2.06-.94 2.06-2.06.94zm-11 1L8.5 8.5l.94-2.06 2.06-.94-2.06-.94L8.5 2.5l-.94 2.06-2.06.94zm10 10l.94 2.06.94-2.06 2.06-.94-2.06-.94-.94-2.06-.94 2.06-2.06.94z\"/><path d=\"M17.41 7.96l-1.37-1.37c-.4-.4-.92-.59-1.43-.59-.52 0-1.04.2-1.43.59L10.3 9.45l-7.72 7.72c-.78.78-.78 2.05 0 2.83L4 21.41c.39.39.9.59 1.41.59.51 0 1.02-.2 1.41-.59l7.78-7.78 2.81-2.81c.8-.78.8-2.07 0-2.86zM5.41 20L4 18.59l7.72-7.72 1.47 1.35L5.41 20z\"/>\n",
              "  </svg>\n",
              "      </button>\n",
              "      \n",
              "  <style>\n",
              "    .colab-df-container {\n",
              "      display:flex;\n",
              "      flex-wrap:wrap;\n",
              "      gap: 12px;\n",
              "    }\n",
              "\n",
              "    .colab-df-convert {\n",
              "      background-color: #E8F0FE;\n",
              "      border: none;\n",
              "      border-radius: 50%;\n",
              "      cursor: pointer;\n",
              "      display: none;\n",
              "      fill: #1967D2;\n",
              "      height: 32px;\n",
              "      padding: 0 0 0 0;\n",
              "      width: 32px;\n",
              "    }\n",
              "\n",
              "    .colab-df-convert:hover {\n",
              "      background-color: #E2EBFA;\n",
              "      box-shadow: 0px 1px 2px rgba(60, 64, 67, 0.3), 0px 1px 3px 1px rgba(60, 64, 67, 0.15);\n",
              "      fill: #174EA6;\n",
              "    }\n",
              "\n",
              "    [theme=dark] .colab-df-convert {\n",
              "      background-color: #3B4455;\n",
              "      fill: #D2E3FC;\n",
              "    }\n",
              "\n",
              "    [theme=dark] .colab-df-convert:hover {\n",
              "      background-color: #434B5C;\n",
              "      box-shadow: 0px 1px 3px 1px rgba(0, 0, 0, 0.15);\n",
              "      filter: drop-shadow(0px 1px 2px rgba(0, 0, 0, 0.3));\n",
              "      fill: #FFFFFF;\n",
              "    }\n",
              "  </style>\n",
              "\n",
              "      <script>\n",
              "        const buttonEl =\n",
              "          document.querySelector('#df-8b862074-5cff-46da-a15d-81534e43a7ae button.colab-df-convert');\n",
              "        buttonEl.style.display =\n",
              "          google.colab.kernel.accessAllowed ? 'block' : 'none';\n",
              "\n",
              "        async function convertToInteractive(key) {\n",
              "          const element = document.querySelector('#df-8b862074-5cff-46da-a15d-81534e43a7ae');\n",
              "          const dataTable =\n",
              "            await google.colab.kernel.invokeFunction('convertToInteractive',\n",
              "                                                     [key], {});\n",
              "          if (!dataTable) return;\n",
              "\n",
              "          const docLinkHtml = 'Like what you see? Visit the ' +\n",
              "            '<a target=\"_blank\" href=https://colab.research.google.com/notebooks/data_table.ipynb>data table notebook</a>'\n",
              "            + ' to learn more about interactive tables.';\n",
              "          element.innerHTML = '';\n",
              "          dataTable['output_type'] = 'display_data';\n",
              "          await google.colab.output.renderOutput(dataTable, element);\n",
              "          const docLink = document.createElement('div');\n",
              "          docLink.innerHTML = docLinkHtml;\n",
              "          element.appendChild(docLink);\n",
              "        }\n",
              "      </script>\n",
              "    </div>\n",
              "  </div>\n",
              "  "
            ]
          },
          "metadata": {},
          "execution_count": 37
        }
      ]
    },
    {
      "cell_type": "markdown",
      "source": [
        "Remove index from each line"
      ],
      "metadata": {
        "id": "CV0EIN4VGgM-"
      }
    },
    {
      "cell_type": "code",
      "source": [
        "def split_tab_lower(text):\n",
        "  return text.split(\"\\t\", 1)[1].lower()"
      ],
      "metadata": {
        "id": "LIq8vzjuGgM_"
      },
      "execution_count": null,
      "outputs": []
    },
    {
      "cell_type": "code",
      "source": [
        "data['text'] = data['text'].apply(split_tab_lower)"
      ],
      "metadata": {
        "id": "ErNh1zaqGgNA"
      },
      "execution_count": null,
      "outputs": []
    },
    {
      "cell_type": "code",
      "source": [
        "data"
      ],
      "metadata": {
        "colab": {
          "base_uri": "https://localhost:8080/",
          "height": 424
        },
        "outputId": "a3d749a0-f0e1-49fd-d311-6c3c70ab1e53",
        "id": "SLHVV8z6GgNA"
      },
      "execution_count": null,
      "outputs": [
        {
          "output_type": "execute_result",
          "data": {
            "text/plain": [
              "            text\n",
              "0              a\n",
              "1             ab\n",
              "2            aba\n",
              "3        aba-aba\n",
              "4           abad\n",
              "...          ...\n",
              "28521  zulkaidah\n",
              "28522     zulmat\n",
              "28523    zurafah\n",
              "28524     zuriah\n",
              "28525        zus\n",
              "\n",
              "[28526 rows x 1 columns]"
            ],
            "text/html": [
              "\n",
              "  <div id=\"df-ef94f3b5-e932-46e2-a1f5-16ca17c3246f\">\n",
              "    <div class=\"colab-df-container\">\n",
              "      <div>\n",
              "<style scoped>\n",
              "    .dataframe tbody tr th:only-of-type {\n",
              "        vertical-align: middle;\n",
              "    }\n",
              "\n",
              "    .dataframe tbody tr th {\n",
              "        vertical-align: top;\n",
              "    }\n",
              "\n",
              "    .dataframe thead th {\n",
              "        text-align: right;\n",
              "    }\n",
              "</style>\n",
              "<table border=\"1\" class=\"dataframe\">\n",
              "  <thead>\n",
              "    <tr style=\"text-align: right;\">\n",
              "      <th></th>\n",
              "      <th>text</th>\n",
              "    </tr>\n",
              "  </thead>\n",
              "  <tbody>\n",
              "    <tr>\n",
              "      <th>0</th>\n",
              "      <td>a</td>\n",
              "    </tr>\n",
              "    <tr>\n",
              "      <th>1</th>\n",
              "      <td>ab</td>\n",
              "    </tr>\n",
              "    <tr>\n",
              "      <th>2</th>\n",
              "      <td>aba</td>\n",
              "    </tr>\n",
              "    <tr>\n",
              "      <th>3</th>\n",
              "      <td>aba-aba</td>\n",
              "    </tr>\n",
              "    <tr>\n",
              "      <th>4</th>\n",
              "      <td>abad</td>\n",
              "    </tr>\n",
              "    <tr>\n",
              "      <th>...</th>\n",
              "      <td>...</td>\n",
              "    </tr>\n",
              "    <tr>\n",
              "      <th>28521</th>\n",
              "      <td>zulkaidah</td>\n",
              "    </tr>\n",
              "    <tr>\n",
              "      <th>28522</th>\n",
              "      <td>zulmat</td>\n",
              "    </tr>\n",
              "    <tr>\n",
              "      <th>28523</th>\n",
              "      <td>zurafah</td>\n",
              "    </tr>\n",
              "    <tr>\n",
              "      <th>28524</th>\n",
              "      <td>zuriah</td>\n",
              "    </tr>\n",
              "    <tr>\n",
              "      <th>28525</th>\n",
              "      <td>zus</td>\n",
              "    </tr>\n",
              "  </tbody>\n",
              "</table>\n",
              "<p>28526 rows × 1 columns</p>\n",
              "</div>\n",
              "      <button class=\"colab-df-convert\" onclick=\"convertToInteractive('df-ef94f3b5-e932-46e2-a1f5-16ca17c3246f')\"\n",
              "              title=\"Convert this dataframe to an interactive table.\"\n",
              "              style=\"display:none;\">\n",
              "        \n",
              "  <svg xmlns=\"http://www.w3.org/2000/svg\" height=\"24px\"viewBox=\"0 0 24 24\"\n",
              "       width=\"24px\">\n",
              "    <path d=\"M0 0h24v24H0V0z\" fill=\"none\"/>\n",
              "    <path d=\"M18.56 5.44l.94 2.06.94-2.06 2.06-.94-2.06-.94-.94-2.06-.94 2.06-2.06.94zm-11 1L8.5 8.5l.94-2.06 2.06-.94-2.06-.94L8.5 2.5l-.94 2.06-2.06.94zm10 10l.94 2.06.94-2.06 2.06-.94-2.06-.94-.94-2.06-.94 2.06-2.06.94z\"/><path d=\"M17.41 7.96l-1.37-1.37c-.4-.4-.92-.59-1.43-.59-.52 0-1.04.2-1.43.59L10.3 9.45l-7.72 7.72c-.78.78-.78 2.05 0 2.83L4 21.41c.39.39.9.59 1.41.59.51 0 1.02-.2 1.41-.59l7.78-7.78 2.81-2.81c.8-.78.8-2.07 0-2.86zM5.41 20L4 18.59l7.72-7.72 1.47 1.35L5.41 20z\"/>\n",
              "  </svg>\n",
              "      </button>\n",
              "      \n",
              "  <style>\n",
              "    .colab-df-container {\n",
              "      display:flex;\n",
              "      flex-wrap:wrap;\n",
              "      gap: 12px;\n",
              "    }\n",
              "\n",
              "    .colab-df-convert {\n",
              "      background-color: #E8F0FE;\n",
              "      border: none;\n",
              "      border-radius: 50%;\n",
              "      cursor: pointer;\n",
              "      display: none;\n",
              "      fill: #1967D2;\n",
              "      height: 32px;\n",
              "      padding: 0 0 0 0;\n",
              "      width: 32px;\n",
              "    }\n",
              "\n",
              "    .colab-df-convert:hover {\n",
              "      background-color: #E2EBFA;\n",
              "      box-shadow: 0px 1px 2px rgba(60, 64, 67, 0.3), 0px 1px 3px 1px rgba(60, 64, 67, 0.15);\n",
              "      fill: #174EA6;\n",
              "    }\n",
              "\n",
              "    [theme=dark] .colab-df-convert {\n",
              "      background-color: #3B4455;\n",
              "      fill: #D2E3FC;\n",
              "    }\n",
              "\n",
              "    [theme=dark] .colab-df-convert:hover {\n",
              "      background-color: #434B5C;\n",
              "      box-shadow: 0px 1px 3px 1px rgba(0, 0, 0, 0.15);\n",
              "      filter: drop-shadow(0px 1px 2px rgba(0, 0, 0, 0.3));\n",
              "      fill: #FFFFFF;\n",
              "    }\n",
              "  </style>\n",
              "\n",
              "      <script>\n",
              "        const buttonEl =\n",
              "          document.querySelector('#df-ef94f3b5-e932-46e2-a1f5-16ca17c3246f button.colab-df-convert');\n",
              "        buttonEl.style.display =\n",
              "          google.colab.kernel.accessAllowed ? 'block' : 'none';\n",
              "\n",
              "        async function convertToInteractive(key) {\n",
              "          const element = document.querySelector('#df-ef94f3b5-e932-46e2-a1f5-16ca17c3246f');\n",
              "          const dataTable =\n",
              "            await google.colab.kernel.invokeFunction('convertToInteractive',\n",
              "                                                     [key], {});\n",
              "          if (!dataTable) return;\n",
              "\n",
              "          const docLinkHtml = 'Like what you see? Visit the ' +\n",
              "            '<a target=\"_blank\" href=https://colab.research.google.com/notebooks/data_table.ipynb>data table notebook</a>'\n",
              "            + ' to learn more about interactive tables.';\n",
              "          element.innerHTML = '';\n",
              "          dataTable['output_type'] = 'display_data';\n",
              "          await google.colab.output.renderOutput(dataTable, element);\n",
              "          const docLink = document.createElement('div');\n",
              "          docLink.innerHTML = docLinkHtml;\n",
              "          element.appendChild(docLink);\n",
              "        }\n",
              "      </script>\n",
              "    </div>\n",
              "  </div>\n",
              "  "
            ]
          },
          "metadata": {},
          "execution_count": 49
        }
      ]
    },
    {
      "cell_type": "markdown",
      "source": [
        "### Process corpus to Word2Vec"
      ],
      "metadata": {
        "id": "dMnvm4iyseei"
      }
    },
    {
      "cell_type": "markdown",
      "source": [
        "Tokenize"
      ],
      "metadata": {
        "id": "I0nYQQecs2Nw"
      }
    },
    {
      "cell_type": "code",
      "source": [
        "from itertools import chain\n",
        "from nltk.tokenize import sent_tokenize, word_tokenize\n",
        "import nltk\n",
        "nltk.download('punkt')"
      ],
      "metadata": {
        "colab": {
          "base_uri": "https://localhost:8080/"
        },
        "id": "Wdl-kUCUstiE",
        "outputId": "d4e6b0eb-7944-4223-d952-aa679f47d27f"
      },
      "execution_count": null,
      "outputs": [
        {
          "output_type": "stream",
          "name": "stderr",
          "text": [
            "[nltk_data] Downloading package punkt to /root/nltk_data...\n",
            "[nltk_data]   Package punkt is already up-to-date!\n"
          ]
        },
        {
          "output_type": "execute_result",
          "data": {
            "text/plain": [
              "True"
            ]
          },
          "metadata": {},
          "execution_count": 24
        }
      ]
    },
    {
      "cell_type": "code",
      "source": [
        "# with sent tokenize\n",
        "sentences = data['text']\n",
        "sentences = sentences.apply(sent_tokenize)\n",
        "sentences = sentences.apply(lambda x: list(map(word_tokenize, x)))\n",
        "final_sentences = list(chain.from_iterable(sentences))"
      ],
      "metadata": {
        "id": "H_y3wySrs4_C"
      },
      "execution_count": null,
      "outputs": []
    },
    {
      "cell_type": "code",
      "source": [
        "print(final_sentences[0:5])"
      ],
      "metadata": {
        "colab": {
          "base_uri": "https://localhost:8080/"
        },
        "id": "XQWITlsktgg2",
        "outputId": "030a2e53-3ead-45af-974d-a9de5c986e05"
      },
      "execution_count": null,
      "outputs": [
        {
          "output_type": "stream",
          "name": "stdout",
          "text": [
            "[[';', '0,00', '%', 'penduduk', 'pasifik', ',', '0,00', '%', 'dari', 'ras', 'lain', ';', 'dan', '0,36', '%', 'dari', '2', 'ras', 'atau', 'lebih', '.'], [';', '0,3', '%', 'orang', 'asia', ';', '3,26', '%', 'dari', 'ras', 'lainnya', ';', 'dan', '1,48', '%', 'dari', 'ras', 'campuran', '.'], [\"'06\", \"''\", 'sehingga', 'singel', '``', 'houkiboshi', \"''\", 'tidak', 'dipromosikan', 'di', 'majalah', 'atau', 'radio', ',', 'dan', 'hanya', 'ada', '3', 'kali', 'pertunjukan', 'untuk', 'promosi', '``', 'houkiboshi', \"''\", '.'], [\"'06\", \"''\", 'yang', 'berlangsung', 'selama', '3', 'hari', '.'], ['``', '0', 'maret', \"''\", 'kadang-kadang', 'digunakan', 'oleh', 'astronom', 'sebagai', 'sinonim', 'untuk', 'hari', 'terakhir', 'februari', '.']]\n"
          ]
        }
      ]
    },
    {
      "cell_type": "markdown",
      "source": [
        "Word2Vect"
      ],
      "metadata": {
        "id": "n2A2zVFRtkr0"
      }
    },
    {
      "cell_type": "code",
      "source": [
        "from gensim.models.word2vec import Word2Vec\n",
        "model = Word2Vec(final_sentences, vector_size=100, min_count=1, sg=1)"
      ],
      "metadata": {
        "id": "Y8s688WMtoFy"
      },
      "execution_count": null,
      "outputs": []
    },
    {
      "cell_type": "code",
      "source": [
        "model.wv.vectors.shape"
      ],
      "metadata": {
        "colab": {
          "base_uri": "https://localhost:8080/"
        },
        "id": "ByG_JfCfvKYq",
        "outputId": "9815b36b-8109-41df-8939-365a0bd2ac8a"
      },
      "execution_count": null,
      "outputs": [
        {
          "output_type": "execute_result",
          "data": {
            "text/plain": [
              "(475332, 100)"
            ]
          },
          "metadata": {},
          "execution_count": 28
        }
      ]
    },
    {
      "cell_type": "markdown",
      "source": [
        "Save model"
      ],
      "metadata": {
        "id": "5_mHgcMyzG4E"
      }
    },
    {
      "cell_type": "code",
      "source": [
        "model.save('/content/drive/MyDrive/NLP/Model/saved_model')"
      ],
      "metadata": {
        "id": "I_VIWQ3QxHuf"
      },
      "execution_count": null,
      "outputs": []
    },
    {
      "cell_type": "markdown",
      "source": [
        "Link Folder Drive to Model https://drive.google.com/drive/folders/1bakX_mtNR6V1EH3W2yVEw2G_ZjAEz6aS?usp=sharing"
      ],
      "metadata": {
        "id": "yJooqrR7ryqp"
      }
    },
    {
      "cell_type": "markdown",
      "source": [
        "Link Drive Model https://drive.google.com/file/d/1LMy1o7zbuEI8lDdqvA0xx918b8k7Skec/view?usp=sharing"
      ],
      "metadata": {
        "id": "NLEVhI2PtzWj"
      }
    },
    {
      "cell_type": "markdown",
      "source": [
        "Link Drive Model.wv.vectors.npy https://drive.google.com/file/d/12yR2JMfXv6Yw-3SkuoI3nuNzfATFJlBl/view?usp=sharing"
      ],
      "metadata": {
        "id": "F6lg8oUAvDpi"
      }
    },
    {
      "cell_type": "markdown",
      "source": [
        "### Load Model"
      ],
      "metadata": {
        "id": "g9a2tw3lsRRR"
      }
    },
    {
      "cell_type": "code",
      "source": [
        "!gdown 1LMy1o7zbuEI8lDdqvA0xx918b8k7Skec"
      ],
      "metadata": {
        "colab": {
          "base_uri": "https://localhost:8080/"
        },
        "id": "xl138oA3tGj3",
        "outputId": "89fb59fe-2388-4d6b-bf84-e8f622e7b9ad"
      },
      "execution_count": null,
      "outputs": [
        {
          "output_type": "stream",
          "name": "stdout",
          "text": [
            "Downloading...\n",
            "From: https://drive.google.com/uc?id=1LMy1o7zbuEI8lDdqvA0xx918b8k7Skec\n",
            "To: /content/saved_model\n",
            "100% 15.6M/15.6M [00:00<00:00, 48.7MB/s]\n"
          ]
        }
      ]
    },
    {
      "cell_type": "code",
      "source": [
        "!gdown 12yR2JMfXv6Yw-3SkuoI3nuNzfATFJlBl"
      ],
      "metadata": {
        "colab": {
          "base_uri": "https://localhost:8080/"
        },
        "id": "p75xCkRZuj2C",
        "outputId": "2540c71e-c5a8-430d-f19f-ea6fdcce681a"
      },
      "execution_count": null,
      "outputs": [
        {
          "output_type": "stream",
          "name": "stdout",
          "text": [
            "Downloading...\n",
            "From: https://drive.google.com/uc?id=12yR2JMfXv6Yw-3SkuoI3nuNzfATFJlBl\n",
            "To: /content/saved_model.wv.vectors.npy\n",
            "100% 190M/190M [00:00<00:00, 218MB/s]\n"
          ]
        }
      ]
    },
    {
      "cell_type": "code",
      "source": [
        "from gensim.models.word2vec import Word2Vec"
      ],
      "metadata": {
        "id": "DSQh3nLRsTHC"
      },
      "execution_count": null,
      "outputs": []
    },
    {
      "cell_type": "code",
      "source": [
        "model = Word2Vec.load(\"saved_model\")"
      ],
      "metadata": {
        "id": "Cwy-nE4gsfoB"
      },
      "execution_count": null,
      "outputs": []
    },
    {
      "cell_type": "markdown",
      "source": [
        "### Check Model"
      ],
      "metadata": {
        "id": "sNdRLx1Wzcut"
      }
    },
    {
      "cell_type": "code",
      "source": [
        "model.wv.similarity(\"keranjang\", \"singa\")"
      ],
      "metadata": {
        "colab": {
          "base_uri": "https://localhost:8080/"
        },
        "id": "k8OUJMF2zgfV",
        "outputId": "9599b456-21e2-4fd8-991e-176242e629e9"
      },
      "execution_count": null,
      "outputs": [
        {
          "output_type": "execute_result",
          "data": {
            "text/plain": [
              "0.5968321"
            ]
          },
          "metadata": {},
          "execution_count": 14
        }
      ]
    },
    {
      "cell_type": "markdown",
      "source": [
        "### Check Available Word Vocabulary"
      ],
      "metadata": {
        "id": "jZZ3kNJYwGM3"
      }
    },
    {
      "cell_type": "code",
      "source": [
        "!git clone https://github.com/damzaky/kumpulan-kata-bahasa-indonesia-KBBI"
      ],
      "metadata": {
        "colab": {
          "base_uri": "https://localhost:8080/"
        },
        "id": "swBagruSwMfQ",
        "outputId": "06a0cc88-94ea-4bf9-941d-432de6c0d7bf"
      },
      "execution_count": null,
      "outputs": [
        {
          "output_type": "stream",
          "name": "stdout",
          "text": [
            "Cloning into 'kumpulan-kata-bahasa-indonesia-KBBI'...\n",
            "remote: Enumerating objects: 16, done.\u001b[K\n",
            "remote: Counting objects: 100% (7/7), done.\u001b[K\n",
            "remote: Compressing objects: 100% (7/7), done.\u001b[K\n",
            "remote: Total 16 (delta 1), reused 2 (delta 0), pack-reused 9\u001b[K\n",
            "Unpacking objects: 100% (16/16), 108.42 KiB | 1.01 MiB/s, done.\n"
          ]
        }
      ]
    },
    {
      "cell_type": "code",
      "source": [
        "import pandas as pd"
      ],
      "metadata": {
        "id": "fYyw-bXHxaYo"
      },
      "execution_count": null,
      "outputs": []
    },
    {
      "cell_type": "code",
      "source": [
        "list_words = pd.read_csv('kumpulan-kata-bahasa-indonesia-KBBI/indonesian-words.txt', header=None)\n",
        "list_words.columns = ['word']\n",
        "list_words"
      ],
      "metadata": {
        "colab": {
          "base_uri": "https://localhost:8080/",
          "height": 423
        },
        "id": "nvD0kQC7whg7",
        "outputId": "cd77664c-1db7-4477-b81e-86622abd2ce7"
      },
      "execution_count": null,
      "outputs": [
        {
          "output_type": "execute_result",
          "data": {
            "text/plain": [
              "             word\n",
              "0          a-beta\n",
              "1            abad\n",
              "2           abadi\n",
              "3          abahan\n",
              "4          abakus\n",
              "...           ...\n",
              "14551  zooteknika\n",
              "14552     zorbing\n",
              "14553      zoster\n",
              "14554         zum\n",
              "14555     zusanli\n",
              "\n",
              "[14556 rows x 1 columns]"
            ],
            "text/html": [
              "\n",
              "  <div id=\"df-d9678974-fe59-49c5-9cb2-4aa0005fa750\">\n",
              "    <div class=\"colab-df-container\">\n",
              "      <div>\n",
              "<style scoped>\n",
              "    .dataframe tbody tr th:only-of-type {\n",
              "        vertical-align: middle;\n",
              "    }\n",
              "\n",
              "    .dataframe tbody tr th {\n",
              "        vertical-align: top;\n",
              "    }\n",
              "\n",
              "    .dataframe thead th {\n",
              "        text-align: right;\n",
              "    }\n",
              "</style>\n",
              "<table border=\"1\" class=\"dataframe\">\n",
              "  <thead>\n",
              "    <tr style=\"text-align: right;\">\n",
              "      <th></th>\n",
              "      <th>word</th>\n",
              "    </tr>\n",
              "  </thead>\n",
              "  <tbody>\n",
              "    <tr>\n",
              "      <th>0</th>\n",
              "      <td>a-beta</td>\n",
              "    </tr>\n",
              "    <tr>\n",
              "      <th>1</th>\n",
              "      <td>abad</td>\n",
              "    </tr>\n",
              "    <tr>\n",
              "      <th>2</th>\n",
              "      <td>abadi</td>\n",
              "    </tr>\n",
              "    <tr>\n",
              "      <th>3</th>\n",
              "      <td>abahan</td>\n",
              "    </tr>\n",
              "    <tr>\n",
              "      <th>4</th>\n",
              "      <td>abakus</td>\n",
              "    </tr>\n",
              "    <tr>\n",
              "      <th>...</th>\n",
              "      <td>...</td>\n",
              "    </tr>\n",
              "    <tr>\n",
              "      <th>14551</th>\n",
              "      <td>zooteknika</td>\n",
              "    </tr>\n",
              "    <tr>\n",
              "      <th>14552</th>\n",
              "      <td>zorbing</td>\n",
              "    </tr>\n",
              "    <tr>\n",
              "      <th>14553</th>\n",
              "      <td>zoster</td>\n",
              "    </tr>\n",
              "    <tr>\n",
              "      <th>14554</th>\n",
              "      <td>zum</td>\n",
              "    </tr>\n",
              "    <tr>\n",
              "      <th>14555</th>\n",
              "      <td>zusanli</td>\n",
              "    </tr>\n",
              "  </tbody>\n",
              "</table>\n",
              "<p>14556 rows × 1 columns</p>\n",
              "</div>\n",
              "      <button class=\"colab-df-convert\" onclick=\"convertToInteractive('df-d9678974-fe59-49c5-9cb2-4aa0005fa750')\"\n",
              "              title=\"Convert this dataframe to an interactive table.\"\n",
              "              style=\"display:none;\">\n",
              "        \n",
              "  <svg xmlns=\"http://www.w3.org/2000/svg\" height=\"24px\"viewBox=\"0 0 24 24\"\n",
              "       width=\"24px\">\n",
              "    <path d=\"M0 0h24v24H0V0z\" fill=\"none\"/>\n",
              "    <path d=\"M18.56 5.44l.94 2.06.94-2.06 2.06-.94-2.06-.94-.94-2.06-.94 2.06-2.06.94zm-11 1L8.5 8.5l.94-2.06 2.06-.94-2.06-.94L8.5 2.5l-.94 2.06-2.06.94zm10 10l.94 2.06.94-2.06 2.06-.94-2.06-.94-.94-2.06-.94 2.06-2.06.94z\"/><path d=\"M17.41 7.96l-1.37-1.37c-.4-.4-.92-.59-1.43-.59-.52 0-1.04.2-1.43.59L10.3 9.45l-7.72 7.72c-.78.78-.78 2.05 0 2.83L4 21.41c.39.39.9.59 1.41.59.51 0 1.02-.2 1.41-.59l7.78-7.78 2.81-2.81c.8-.78.8-2.07 0-2.86zM5.41 20L4 18.59l7.72-7.72 1.47 1.35L5.41 20z\"/>\n",
              "  </svg>\n",
              "      </button>\n",
              "      \n",
              "  <style>\n",
              "    .colab-df-container {\n",
              "      display:flex;\n",
              "      flex-wrap:wrap;\n",
              "      gap: 12px;\n",
              "    }\n",
              "\n",
              "    .colab-df-convert {\n",
              "      background-color: #E8F0FE;\n",
              "      border: none;\n",
              "      border-radius: 50%;\n",
              "      cursor: pointer;\n",
              "      display: none;\n",
              "      fill: #1967D2;\n",
              "      height: 32px;\n",
              "      padding: 0 0 0 0;\n",
              "      width: 32px;\n",
              "    }\n",
              "\n",
              "    .colab-df-convert:hover {\n",
              "      background-color: #E2EBFA;\n",
              "      box-shadow: 0px 1px 2px rgba(60, 64, 67, 0.3), 0px 1px 3px 1px rgba(60, 64, 67, 0.15);\n",
              "      fill: #174EA6;\n",
              "    }\n",
              "\n",
              "    [theme=dark] .colab-df-convert {\n",
              "      background-color: #3B4455;\n",
              "      fill: #D2E3FC;\n",
              "    }\n",
              "\n",
              "    [theme=dark] .colab-df-convert:hover {\n",
              "      background-color: #434B5C;\n",
              "      box-shadow: 0px 1px 3px 1px rgba(0, 0, 0, 0.15);\n",
              "      filter: drop-shadow(0px 1px 2px rgba(0, 0, 0, 0.3));\n",
              "      fill: #FFFFFF;\n",
              "    }\n",
              "  </style>\n",
              "\n",
              "      <script>\n",
              "        const buttonEl =\n",
              "          document.querySelector('#df-d9678974-fe59-49c5-9cb2-4aa0005fa750 button.colab-df-convert');\n",
              "        buttonEl.style.display =\n",
              "          google.colab.kernel.accessAllowed ? 'block' : 'none';\n",
              "\n",
              "        async function convertToInteractive(key) {\n",
              "          const element = document.querySelector('#df-d9678974-fe59-49c5-9cb2-4aa0005fa750');\n",
              "          const dataTable =\n",
              "            await google.colab.kernel.invokeFunction('convertToInteractive',\n",
              "                                                     [key], {});\n",
              "          if (!dataTable) return;\n",
              "\n",
              "          const docLinkHtml = 'Like what you see? Visit the ' +\n",
              "            '<a target=\"_blank\" href=https://colab.research.google.com/notebooks/data_table.ipynb>data table notebook</a>'\n",
              "            + ' to learn more about interactive tables.';\n",
              "          element.innerHTML = '';\n",
              "          dataTable['output_type'] = 'display_data';\n",
              "          await google.colab.output.renderOutput(dataTable, element);\n",
              "          const docLink = document.createElement('div');\n",
              "          docLink.innerHTML = docLinkHtml;\n",
              "          element.appendChild(docLink);\n",
              "        }\n",
              "      </script>\n",
              "    </div>\n",
              "  </div>\n",
              "  "
            ]
          },
          "metadata": {},
          "execution_count": 86
        }
      ]
    },
    {
      "cell_type": "markdown",
      "source": [
        "###Download list words or vocabulary #2\n"
      ],
      "metadata": {
        "id": "P8uOwlTdB3xR"
      }
    },
    {
      "cell_type": "code",
      "source": [
        "!wget http://www.hikaruyuuki.com/wp-content/uploads/kata-dasar-indonesia.txt"
      ],
      "metadata": {
        "colab": {
          "base_uri": "https://localhost:8080/"
        },
        "id": "Z64m0XvnB8Eu",
        "outputId": "a9332a6f-13e1-4f3b-a14f-8a58b3770a14"
      },
      "execution_count": null,
      "outputs": [
        {
          "output_type": "stream",
          "name": "stdout",
          "text": [
            "--2023-06-12 09:55:31--  http://www.hikaruyuuki.com/wp-content/uploads/kata-dasar-indonesia.txt\n",
            "Resolving www.hikaruyuuki.com (www.hikaruyuuki.com)... 119.235.250.50\n",
            "Connecting to www.hikaruyuuki.com (www.hikaruyuuki.com)|119.235.250.50|:80... connected.\n",
            "HTTP request sent, awaiting response... 200 OK\n",
            "Length: 377033 (368K) [text/plain]\n",
            "Saving to: ‘kata-dasar-indonesia.txt’\n",
            "\n",
            "kata-dasar-indonesi 100%[===================>] 368.20K   419KB/s    in 0.9s    \n",
            "\n",
            "2023-06-12 09:55:33 (419 KB/s) - ‘kata-dasar-indonesia.txt’ saved [377033/377033]\n",
            "\n"
          ]
        }
      ]
    },
    {
      "cell_type": "markdown",
      "source": [
        "###Preprocess vocabulary #2"
      ],
      "metadata": {
        "id": "8XP5iD8ICbOP"
      }
    },
    {
      "cell_type": "code",
      "source": [
        "text_corpus = []\n",
        "with open('kata-dasar-indonesia.txt') as f:\n",
        "    text_corpus = f.readlines()"
      ],
      "metadata": {
        "id": "WqVFCn1QCeEL"
      },
      "execution_count": null,
      "outputs": []
    },
    {
      "cell_type": "code",
      "source": [
        "skip_word = ['A (n)\\n','B (n)\\n','C (n)\\n','D (n)\\n','E (n)\\n','F (n)\\n','G (n)\\n','H (n)\\n','I (n)\\n','J (n)\\n','K (n)\\n','L (n)\\n','M (n)\\n','N (n)\\n','O (n)\\n','P (n)\\n','Q (n)\\n','R (n)\\n','S (n)\\n','T (n)\\n','U (n)\\n','V (n)\\n','W (n)\\n','X (n)\\n','Y (n)\\n','Z (n)\\n']\n",
        "text_corpus2 = [elem for elem in text_corpus if elem not in skip_word]"
      ],
      "metadata": {
        "id": "uiYt6f48JBAA"
      },
      "execution_count": null,
      "outputs": []
    },
    {
      "cell_type": "code",
      "source": [
        "len(text_corpus2)"
      ],
      "metadata": {
        "colab": {
          "base_uri": "https://localhost:8080/"
        },
        "id": "GI7GAXZDJgkz",
        "outputId": "942ff90a-b1fc-4436-d76b-65b2d99eaceb"
      },
      "execution_count": null,
      "outputs": [
        {
          "output_type": "execute_result",
          "data": {
            "text/plain": [
              "28501"
            ]
          },
          "metadata": {},
          "execution_count": 67
        }
      ]
    },
    {
      "cell_type": "code",
      "source": [
        "with open('output.csv', 'w', newline='', encoding='utf-8') as csv_file:\n",
        "    writer = csv.writer(csv_file)\n",
        "    for line in text_corpus2:\n",
        "        writer.writerow([line.strip()])"
      ],
      "metadata": {
        "id": "LwRdYVAiCkMW"
      },
      "execution_count": null,
      "outputs": []
    },
    {
      "cell_type": "markdown",
      "source": [
        "Load csv file to pandas dataframe"
      ],
      "metadata": {
        "id": "cNWJOujKp6UB"
      }
    },
    {
      "cell_type": "code",
      "source": [
        "import pandas as pd"
      ],
      "metadata": {
        "id": "HYTVjck2nci0"
      },
      "execution_count": null,
      "outputs": []
    },
    {
      "cell_type": "code",
      "source": [
        "data = pd.read_csv('output.csv', header=None)\n",
        "data.columns = [\"text\"]"
      ],
      "metadata": {
        "id": "EgkuThNRpL7a"
      },
      "execution_count": null,
      "outputs": []
    },
    {
      "cell_type": "code",
      "source": [
        "data"
      ],
      "metadata": {
        "colab": {
          "base_uri": "https://localhost:8080/",
          "height": 423
        },
        "id": "scU_PE-8sLTf",
        "outputId": "d4fecc0f-4cda-46a2-dd03-be93e5f43c18"
      },
      "execution_count": null,
      "outputs": [
        {
          "output_type": "execute_result",
          "data": {
            "text/plain": [
              "                text\n",
              "0             ab (n)\n",
              "1            aba (n)\n",
              "2        aba-aba (n)\n",
              "3           abad (n)\n",
              "4        abadi (adj)\n",
              "...              ...\n",
              "28496  Zulkaidah (n)\n",
              "28497     zulmat (n)\n",
              "28498    zurafah (n)\n",
              "28499     zuriah (n)\n",
              "28500        zus (n)\n",
              "\n",
              "[28501 rows x 1 columns]"
            ],
            "text/html": [
              "\n",
              "  <div id=\"df-5fedee4c-12ec-49f6-9ec8-6df6fbd32b9d\">\n",
              "    <div class=\"colab-df-container\">\n",
              "      <div>\n",
              "<style scoped>\n",
              "    .dataframe tbody tr th:only-of-type {\n",
              "        vertical-align: middle;\n",
              "    }\n",
              "\n",
              "    .dataframe tbody tr th {\n",
              "        vertical-align: top;\n",
              "    }\n",
              "\n",
              "    .dataframe thead th {\n",
              "        text-align: right;\n",
              "    }\n",
              "</style>\n",
              "<table border=\"1\" class=\"dataframe\">\n",
              "  <thead>\n",
              "    <tr style=\"text-align: right;\">\n",
              "      <th></th>\n",
              "      <th>text</th>\n",
              "    </tr>\n",
              "  </thead>\n",
              "  <tbody>\n",
              "    <tr>\n",
              "      <th>0</th>\n",
              "      <td>ab (n)</td>\n",
              "    </tr>\n",
              "    <tr>\n",
              "      <th>1</th>\n",
              "      <td>aba (n)</td>\n",
              "    </tr>\n",
              "    <tr>\n",
              "      <th>2</th>\n",
              "      <td>aba-aba (n)</td>\n",
              "    </tr>\n",
              "    <tr>\n",
              "      <th>3</th>\n",
              "      <td>abad (n)</td>\n",
              "    </tr>\n",
              "    <tr>\n",
              "      <th>4</th>\n",
              "      <td>abadi (adj)</td>\n",
              "    </tr>\n",
              "    <tr>\n",
              "      <th>...</th>\n",
              "      <td>...</td>\n",
              "    </tr>\n",
              "    <tr>\n",
              "      <th>28496</th>\n",
              "      <td>Zulkaidah (n)</td>\n",
              "    </tr>\n",
              "    <tr>\n",
              "      <th>28497</th>\n",
              "      <td>zulmat (n)</td>\n",
              "    </tr>\n",
              "    <tr>\n",
              "      <th>28498</th>\n",
              "      <td>zurafah (n)</td>\n",
              "    </tr>\n",
              "    <tr>\n",
              "      <th>28499</th>\n",
              "      <td>zuriah (n)</td>\n",
              "    </tr>\n",
              "    <tr>\n",
              "      <th>28500</th>\n",
              "      <td>zus (n)</td>\n",
              "    </tr>\n",
              "  </tbody>\n",
              "</table>\n",
              "<p>28501 rows × 1 columns</p>\n",
              "</div>\n",
              "      <button class=\"colab-df-convert\" onclick=\"convertToInteractive('df-5fedee4c-12ec-49f6-9ec8-6df6fbd32b9d')\"\n",
              "              title=\"Convert this dataframe to an interactive table.\"\n",
              "              style=\"display:none;\">\n",
              "        \n",
              "  <svg xmlns=\"http://www.w3.org/2000/svg\" height=\"24px\"viewBox=\"0 0 24 24\"\n",
              "       width=\"24px\">\n",
              "    <path d=\"M0 0h24v24H0V0z\" fill=\"none\"/>\n",
              "    <path d=\"M18.56 5.44l.94 2.06.94-2.06 2.06-.94-2.06-.94-.94-2.06-.94 2.06-2.06.94zm-11 1L8.5 8.5l.94-2.06 2.06-.94-2.06-.94L8.5 2.5l-.94 2.06-2.06.94zm10 10l.94 2.06.94-2.06 2.06-.94-2.06-.94-.94-2.06-.94 2.06-2.06.94z\"/><path d=\"M17.41 7.96l-1.37-1.37c-.4-.4-.92-.59-1.43-.59-.52 0-1.04.2-1.43.59L10.3 9.45l-7.72 7.72c-.78.78-.78 2.05 0 2.83L4 21.41c.39.39.9.59 1.41.59.51 0 1.02-.2 1.41-.59l7.78-7.78 2.81-2.81c.8-.78.8-2.07 0-2.86zM5.41 20L4 18.59l7.72-7.72 1.47 1.35L5.41 20z\"/>\n",
              "  </svg>\n",
              "      </button>\n",
              "      \n",
              "  <style>\n",
              "    .colab-df-container {\n",
              "      display:flex;\n",
              "      flex-wrap:wrap;\n",
              "      gap: 12px;\n",
              "    }\n",
              "\n",
              "    .colab-df-convert {\n",
              "      background-color: #E8F0FE;\n",
              "      border: none;\n",
              "      border-radius: 50%;\n",
              "      cursor: pointer;\n",
              "      display: none;\n",
              "      fill: #1967D2;\n",
              "      height: 32px;\n",
              "      padding: 0 0 0 0;\n",
              "      width: 32px;\n",
              "    }\n",
              "\n",
              "    .colab-df-convert:hover {\n",
              "      background-color: #E2EBFA;\n",
              "      box-shadow: 0px 1px 2px rgba(60, 64, 67, 0.3), 0px 1px 3px 1px rgba(60, 64, 67, 0.15);\n",
              "      fill: #174EA6;\n",
              "    }\n",
              "\n",
              "    [theme=dark] .colab-df-convert {\n",
              "      background-color: #3B4455;\n",
              "      fill: #D2E3FC;\n",
              "    }\n",
              "\n",
              "    [theme=dark] .colab-df-convert:hover {\n",
              "      background-color: #434B5C;\n",
              "      box-shadow: 0px 1px 3px 1px rgba(0, 0, 0, 0.15);\n",
              "      filter: drop-shadow(0px 1px 2px rgba(0, 0, 0, 0.3));\n",
              "      fill: #FFFFFF;\n",
              "    }\n",
              "  </style>\n",
              "\n",
              "      <script>\n",
              "        const buttonEl =\n",
              "          document.querySelector('#df-5fedee4c-12ec-49f6-9ec8-6df6fbd32b9d button.colab-df-convert');\n",
              "        buttonEl.style.display =\n",
              "          google.colab.kernel.accessAllowed ? 'block' : 'none';\n",
              "\n",
              "        async function convertToInteractive(key) {\n",
              "          const element = document.querySelector('#df-5fedee4c-12ec-49f6-9ec8-6df6fbd32b9d');\n",
              "          const dataTable =\n",
              "            await google.colab.kernel.invokeFunction('convertToInteractive',\n",
              "                                                     [key], {});\n",
              "          if (!dataTable) return;\n",
              "\n",
              "          const docLinkHtml = 'Like what you see? Visit the ' +\n",
              "            '<a target=\"_blank\" href=https://colab.research.google.com/notebooks/data_table.ipynb>data table notebook</a>'\n",
              "            + ' to learn more about interactive tables.';\n",
              "          element.innerHTML = '';\n",
              "          dataTable['output_type'] = 'display_data';\n",
              "          await google.colab.output.renderOutput(dataTable, element);\n",
              "          const docLink = document.createElement('div');\n",
              "          docLink.innerHTML = docLinkHtml;\n",
              "          element.appendChild(docLink);\n",
              "        }\n",
              "      </script>\n",
              "    </div>\n",
              "  </div>\n",
              "  "
            ]
          },
          "metadata": {},
          "execution_count": 76
        }
      ]
    },
    {
      "cell_type": "markdown",
      "source": [
        "Remove index from each line"
      ],
      "metadata": {
        "id": "nDhbqRYprr1y"
      }
    },
    {
      "cell_type": "code",
      "source": [
        "def split_tab_lower(text):\n",
        "  return text.split()[0].lower()"
      ],
      "metadata": {
        "id": "LqO-nS75EUM0"
      },
      "execution_count": null,
      "outputs": []
    },
    {
      "cell_type": "code",
      "source": [
        "data['text'] = data['text'].apply(split_tab_lower)"
      ],
      "metadata": {
        "id": "J0a6YlMOqjG3"
      },
      "execution_count": null,
      "outputs": []
    },
    {
      "cell_type": "code",
      "source": [
        "data"
      ],
      "metadata": {
        "colab": {
          "base_uri": "https://localhost:8080/",
          "height": 423
        },
        "id": "oOOvkKbwnlpU",
        "outputId": "21ba4509-2380-48e9-cfdf-5b33e4c1c29e"
      },
      "execution_count": null,
      "outputs": [
        {
          "output_type": "execute_result",
          "data": {
            "text/plain": [
              "            text\n",
              "0             ab\n",
              "1            aba\n",
              "2        aba-aba\n",
              "3           abad\n",
              "4          abadi\n",
              "...          ...\n",
              "28496  zulkaidah\n",
              "28497     zulmat\n",
              "28498    zurafah\n",
              "28499     zuriah\n",
              "28500        zus\n",
              "\n",
              "[28501 rows x 1 columns]"
            ],
            "text/html": [
              "\n",
              "  <div id=\"df-0639c23f-664d-4d50-ae3d-3bc627f24f78\">\n",
              "    <div class=\"colab-df-container\">\n",
              "      <div>\n",
              "<style scoped>\n",
              "    .dataframe tbody tr th:only-of-type {\n",
              "        vertical-align: middle;\n",
              "    }\n",
              "\n",
              "    .dataframe tbody tr th {\n",
              "        vertical-align: top;\n",
              "    }\n",
              "\n",
              "    .dataframe thead th {\n",
              "        text-align: right;\n",
              "    }\n",
              "</style>\n",
              "<table border=\"1\" class=\"dataframe\">\n",
              "  <thead>\n",
              "    <tr style=\"text-align: right;\">\n",
              "      <th></th>\n",
              "      <th>text</th>\n",
              "    </tr>\n",
              "  </thead>\n",
              "  <tbody>\n",
              "    <tr>\n",
              "      <th>0</th>\n",
              "      <td>ab</td>\n",
              "    </tr>\n",
              "    <tr>\n",
              "      <th>1</th>\n",
              "      <td>aba</td>\n",
              "    </tr>\n",
              "    <tr>\n",
              "      <th>2</th>\n",
              "      <td>aba-aba</td>\n",
              "    </tr>\n",
              "    <tr>\n",
              "      <th>3</th>\n",
              "      <td>abad</td>\n",
              "    </tr>\n",
              "    <tr>\n",
              "      <th>4</th>\n",
              "      <td>abadi</td>\n",
              "    </tr>\n",
              "    <tr>\n",
              "      <th>...</th>\n",
              "      <td>...</td>\n",
              "    </tr>\n",
              "    <tr>\n",
              "      <th>28496</th>\n",
              "      <td>zulkaidah</td>\n",
              "    </tr>\n",
              "    <tr>\n",
              "      <th>28497</th>\n",
              "      <td>zulmat</td>\n",
              "    </tr>\n",
              "    <tr>\n",
              "      <th>28498</th>\n",
              "      <td>zurafah</td>\n",
              "    </tr>\n",
              "    <tr>\n",
              "      <th>28499</th>\n",
              "      <td>zuriah</td>\n",
              "    </tr>\n",
              "    <tr>\n",
              "      <th>28500</th>\n",
              "      <td>zus</td>\n",
              "    </tr>\n",
              "  </tbody>\n",
              "</table>\n",
              "<p>28501 rows × 1 columns</p>\n",
              "</div>\n",
              "      <button class=\"colab-df-convert\" onclick=\"convertToInteractive('df-0639c23f-664d-4d50-ae3d-3bc627f24f78')\"\n",
              "              title=\"Convert this dataframe to an interactive table.\"\n",
              "              style=\"display:none;\">\n",
              "        \n",
              "  <svg xmlns=\"http://www.w3.org/2000/svg\" height=\"24px\"viewBox=\"0 0 24 24\"\n",
              "       width=\"24px\">\n",
              "    <path d=\"M0 0h24v24H0V0z\" fill=\"none\"/>\n",
              "    <path d=\"M18.56 5.44l.94 2.06.94-2.06 2.06-.94-2.06-.94-.94-2.06-.94 2.06-2.06.94zm-11 1L8.5 8.5l.94-2.06 2.06-.94-2.06-.94L8.5 2.5l-.94 2.06-2.06.94zm10 10l.94 2.06.94-2.06 2.06-.94-2.06-.94-.94-2.06-.94 2.06-2.06.94z\"/><path d=\"M17.41 7.96l-1.37-1.37c-.4-.4-.92-.59-1.43-.59-.52 0-1.04.2-1.43.59L10.3 9.45l-7.72 7.72c-.78.78-.78 2.05 0 2.83L4 21.41c.39.39.9.59 1.41.59.51 0 1.02-.2 1.41-.59l7.78-7.78 2.81-2.81c.8-.78.8-2.07 0-2.86zM5.41 20L4 18.59l7.72-7.72 1.47 1.35L5.41 20z\"/>\n",
              "  </svg>\n",
              "      </button>\n",
              "      \n",
              "  <style>\n",
              "    .colab-df-container {\n",
              "      display:flex;\n",
              "      flex-wrap:wrap;\n",
              "      gap: 12px;\n",
              "    }\n",
              "\n",
              "    .colab-df-convert {\n",
              "      background-color: #E8F0FE;\n",
              "      border: none;\n",
              "      border-radius: 50%;\n",
              "      cursor: pointer;\n",
              "      display: none;\n",
              "      fill: #1967D2;\n",
              "      height: 32px;\n",
              "      padding: 0 0 0 0;\n",
              "      width: 32px;\n",
              "    }\n",
              "\n",
              "    .colab-df-convert:hover {\n",
              "      background-color: #E2EBFA;\n",
              "      box-shadow: 0px 1px 2px rgba(60, 64, 67, 0.3), 0px 1px 3px 1px rgba(60, 64, 67, 0.15);\n",
              "      fill: #174EA6;\n",
              "    }\n",
              "\n",
              "    [theme=dark] .colab-df-convert {\n",
              "      background-color: #3B4455;\n",
              "      fill: #D2E3FC;\n",
              "    }\n",
              "\n",
              "    [theme=dark] .colab-df-convert:hover {\n",
              "      background-color: #434B5C;\n",
              "      box-shadow: 0px 1px 3px 1px rgba(0, 0, 0, 0.15);\n",
              "      filter: drop-shadow(0px 1px 2px rgba(0, 0, 0, 0.3));\n",
              "      fill: #FFFFFF;\n",
              "    }\n",
              "  </style>\n",
              "\n",
              "      <script>\n",
              "        const buttonEl =\n",
              "          document.querySelector('#df-0639c23f-664d-4d50-ae3d-3bc627f24f78 button.colab-df-convert');\n",
              "        buttonEl.style.display =\n",
              "          google.colab.kernel.accessAllowed ? 'block' : 'none';\n",
              "\n",
              "        async function convertToInteractive(key) {\n",
              "          const element = document.querySelector('#df-0639c23f-664d-4d50-ae3d-3bc627f24f78');\n",
              "          const dataTable =\n",
              "            await google.colab.kernel.invokeFunction('convertToInteractive',\n",
              "                                                     [key], {});\n",
              "          if (!dataTable) return;\n",
              "\n",
              "          const docLinkHtml = 'Like what you see? Visit the ' +\n",
              "            '<a target=\"_blank\" href=https://colab.research.google.com/notebooks/data_table.ipynb>data table notebook</a>'\n",
              "            + ' to learn more about interactive tables.';\n",
              "          element.innerHTML = '';\n",
              "          dataTable['output_type'] = 'display_data';\n",
              "          await google.colab.output.renderOutput(dataTable, element);\n",
              "          const docLink = document.createElement('div');\n",
              "          docLink.innerHTML = docLinkHtml;\n",
              "          element.appendChild(docLink);\n",
              "        }\n",
              "      </script>\n",
              "    </div>\n",
              "  </div>\n",
              "  "
            ]
          },
          "metadata": {},
          "execution_count": 79
        }
      ]
    },
    {
      "cell_type": "markdown",
      "source": [
        "Search Available Word"
      ],
      "metadata": {
        "id": "TMQgUel4yDOW"
      }
    },
    {
      "cell_type": "code",
      "source": [
        "word = \"abjad\"\n",
        "\n",
        "#check from all indonesian words currently available\n",
        "from_dictionary = word in list_words['word'].values\n",
        "from_dictionary2 = word in data['text'].values\n",
        "\n",
        "#check from corpus\n",
        "# from_corpus = word in model.wv\n",
        "\n",
        "avail = (from_dictionary or from_dictionary2)\n",
        "avail"
      ],
      "metadata": {
        "colab": {
          "base_uri": "https://localhost:8080/"
        },
        "id": "N6tWnEmByF2M",
        "outputId": "d639aff5-011a-4249-9a5f-9d43f7f19fae"
      },
      "execution_count": null,
      "outputs": [
        {
          "output_type": "execute_result",
          "data": {
            "text/plain": [
              "True"
            ]
          },
          "metadata": {},
          "execution_count": 90
        }
      ]
    },
    {
      "cell_type": "markdown",
      "source": [
        "### Coba Generate similarity ranking of word answer"
      ],
      "metadata": {
        "id": "m5UsSFDK4EKs"
      }
    },
    {
      "cell_type": "markdown",
      "source": [
        "For rank similarity"
      ],
      "metadata": {
        "id": "XszyF7q26h5n"
      }
    },
    {
      "cell_type": "code",
      "source": [
        "answer = \"dia\"\n",
        "\n",
        "model.wv.rank(answer, \"diapun\")"
      ],
      "metadata": {
        "colab": {
          "base_uri": "https://localhost:8080/"
        },
        "id": "e2MLnWoL4Qyh",
        "outputId": "51970a97-fa36-4b7b-eaa5-b6e794f31679"
      },
      "execution_count": null,
      "outputs": [
        {
          "output_type": "execute_result",
          "data": {
            "text/plain": [
              "4"
            ]
          },
          "metadata": {},
          "execution_count": 15
        }
      ]
    },
    {
      "cell_type": "markdown",
      "source": [
        "For Hint"
      ],
      "metadata": {
        "id": "k0cJmnQ36_3P"
      }
    },
    {
      "cell_type": "code",
      "source": [
        "model.wv.similar_by_key(\"dia\", topn=50)"
      ],
      "metadata": {
        "colab": {
          "base_uri": "https://localhost:8080/"
        },
        "id": "8cwZyNxm5Zwd",
        "outputId": "64f9ca9f-28aa-4a1d-f2e7-a9de2af19446"
      },
      "execution_count": null,
      "outputs": [
        {
          "output_type": "execute_result",
          "data": {
            "text/plain": [
              "[('ia', 0.959320604801178),\n",
              " ('grissom', 0.8160098791122437),\n",
              " ('shana', 0.8026078343391418),\n",
              " ('diapun', 0.7979375720024109),\n",
              " ('iapun', 0.7968661785125732),\n",
              " ('lum', 0.7945010662078857),\n",
              " ('mereka', 0.7927104830741882),\n",
              " ('delisa', 0.7920003533363342),\n",
              " ('menjenguknya', 0.7896609306335449),\n",
              " ('krum', 0.7889015674591064),\n",
              " ('gauri', 0.788482666015625),\n",
              " ('randi', 0.7883919477462769),\n",
              " ('besoknya', 0.7865615487098694),\n",
              " ('sun-hwa', 0.785291314125061),\n",
              " ('miyuki', 0.7844592928886414),\n",
              " ('menghalanginya', 0.7836875319480896),\n",
              " ('zak', 0.7821268439292908),\n",
              " ('kuro', 0.7812140583992004),\n",
              " ('theseus', 0.780866265296936),\n",
              " ('membimbingnya', 0.7801021337509155),\n",
              " ('menginginkannya', 0.7800183892250061),\n",
              " ('daigo', 0.7799026966094971),\n",
              " ('motivasinya', 0.7794299125671387),\n",
              " ('arthas', 0.7785511612892151),\n",
              " ('abigail', 0.7781268954277039),\n",
              " ('voldermort', 0.7770635485649109),\n",
              " ('suzu', 0.7770059704780579),\n",
              " ('evita', 0.7767338752746582),\n",
              " ('rukia', 0.7766772508621216),\n",
              " ('candace', 0.7765015959739685),\n",
              " ('rayhan', 0.7764378190040588),\n",
              " ('ritsu', 0.7760640382766724),\n",
              " ('reyna', 0.775731086730957),\n",
              " ('yui', 0.7756364941596985),\n",
              " ('toneri', 0.7752607464790344),\n",
              " ('dirumahnya', 0.7749189138412476),\n",
              " ('syaoran', 0.7748697400093079),\n",
              " ('slughorn', 0.7742738723754883),\n",
              " ('menghadapinya', 0.7740831971168518),\n",
              " ('baim', 0.7738236784934998),\n",
              " ('muradin', 0.7733333110809326),\n",
              " ('amarta', 0.7733116745948792),\n",
              " ('effie', 0.7733091115951538),\n",
              " ('mccorvey', 0.7732605934143066),\n",
              " ('sun-woo', 0.773223876953125),\n",
              " ('carissa', 0.7730456590652466),\n",
              " ('merope', 0.7730218172073364),\n",
              " ('sawako', 0.7727024555206299),\n",
              " ('driss', 0.7726866006851196),\n",
              " ('fey', 0.7717723846435547)]"
            ]
          },
          "metadata": {},
          "execution_count": 50
        }
      ]
    },
    {
      "cell_type": "markdown",
      "source": [
        "### Use Pretrain Model with GloVe algorithm"
      ],
      "metadata": {
        "id": "8eq2QKHNM6zL"
      }
    },
    {
      "cell_type": "markdown",
      "source": [
        "Source of this model can be reference from https://github.com/irfanhanif/Mira"
      ],
      "metadata": {
        "id": "FTk_2OdeNFXW"
      }
    },
    {
      "cell_type": "markdown",
      "source": [
        "Link Drive\n",
        "\n",
        "vectors: https://drive.google.com/file/d/1pdmiL-q26YN6gfKgplh8kMrtPPwp_wB_/view\n",
        "\n",
        "corpus: https://drive.google.com/file/d/1fQaPzbNEiJ3BK7YoOu-lZNMzQdiNSIhi/view"
      ],
      "metadata": {
        "id": "t0NASgMsO23i"
      }
    },
    {
      "cell_type": "markdown",
      "source": [
        "Download vector"
      ],
      "metadata": {
        "id": "qhSW0E3hPIwA"
      }
    },
    {
      "cell_type": "code",
      "source": [
        "!gdown 1pdmiL-q26YN6gfKgplh8kMrtPPwp_wB_"
      ],
      "metadata": {
        "colab": {
          "base_uri": "https://localhost:8080/"
        },
        "id": "991XHQxjEl8l",
        "outputId": "94b9a24d-910d-40bc-cb87-08004763689a"
      },
      "execution_count": 1,
      "outputs": [
        {
          "output_type": "stream",
          "name": "stdout",
          "text": [
            "Downloading...\n",
            "From: https://drive.google.com/uc?id=1pdmiL-q26YN6gfKgplh8kMrtPPwp_wB_\n",
            "To: /content/vectors.txt\n",
            "100% 160M/160M [00:02<00:00, 61.8MB/s]\n"
          ]
        }
      ]
    },
    {
      "cell_type": "markdown",
      "source": [
        "Count lines"
      ],
      "metadata": {
        "id": "fI-DR8rAPK6X"
      }
    },
    {
      "cell_type": "code",
      "source": [
        "!wc -l vect.txt"
      ],
      "metadata": {
        "colab": {
          "base_uri": "https://localhost:8080/"
        },
        "id": "4YSvk115FDEC",
        "outputId": "b510de3e-0ab2-49b5-eeab-abc6a828def3"
      },
      "execution_count": 31,
      "outputs": [
        {
          "output_type": "stream",
          "name": "stdout",
          "text": [
            "331287 vect.txt\n"
          ]
        }
      ]
    },
    {
      "cell_type": "markdown",
      "source": [
        "Add Number of lines and vector length to file"
      ],
      "metadata": {
        "id": "_veG7fXsPOBu"
      }
    },
    {
      "cell_type": "code",
      "source": [
        "!echo \"331286 50\" > vect.txt\n",
        "!cat vectors.txt >> vect.txt"
      ],
      "metadata": {
        "id": "Fz92ss32FTuc"
      },
      "execution_count": 22,
      "outputs": []
    },
    {
      "cell_type": "markdown",
      "source": [
        "Check is file correct"
      ],
      "metadata": {
        "id": "tzLewSLXPTfu"
      }
    },
    {
      "cell_type": "code",
      "source": [
        "temp = []\n",
        "with open('vect.txt') as f:\n",
        "  temp = f.readlines()"
      ],
      "metadata": {
        "id": "5KQDsFM8LwWs"
      },
      "execution_count": 32,
      "outputs": []
    },
    {
      "cell_type": "code",
      "source": [
        "temp[0]"
      ],
      "metadata": {
        "colab": {
          "base_uri": "https://localhost:8080/",
          "height": 36
        },
        "id": "xBwn8-6HPcfO",
        "outputId": "081d092a-6a63-4619-f45d-f9eb5ebf56c3"
      },
      "execution_count": 33,
      "outputs": [
        {
          "output_type": "execute_result",
          "data": {
            "text/plain": [
              "'331286 50\\n'"
            ],
            "application/vnd.google.colaboratory.intrinsic+json": {
              "type": "string"
            }
          },
          "metadata": {},
          "execution_count": 33
        }
      ]
    },
    {
      "cell_type": "code",
      "source": [
        "temp[1]"
      ],
      "metadata": {
        "colab": {
          "base_uri": "https://localhost:8080/",
          "height": 88
        },
        "id": "01BoXH3-LzpP",
        "outputId": "d9d8f30a-dc7d-4564-ccbd-397a76cdad2f"
      },
      "execution_count": 34,
      "outputs": [
        {
          "output_type": "execute_result",
          "data": {
            "text/plain": [
              "'dan -0.028669 -0.079521 -0.745437 0.947957 0.145600 0.208793 0.563256 0.144865 -1.168601 -0.770691 -0.868666 -0.099608 -0.677246 0.276379 -0.202523 -0.938004 0.869196 1.154606 -0.711352 1.530791 0.633017 1.103734 3.651248 -0.063392 -1.858380 1.355643 -0.342743 -0.638605 0.393076 -1.268856 1.055029 -0.375233 -1.428337 0.428032 1.361086 0.711733 1.206595 1.210484 -0.190727 0.194155 0.269840 -0.191284 -0.169478 -0.336127 -0.449392 0.552006 -0.037513 -0.216293 0.687252 -0.775978\\n'"
            ],
            "application/vnd.google.colaboratory.intrinsic+json": {
              "type": "string"
            }
          },
          "metadata": {},
          "execution_count": 34
        }
      ]
    },
    {
      "cell_type": "markdown",
      "source": [
        "Load The model to wv with KeyedVectors"
      ],
      "metadata": {
        "id": "mirY5CTkPheT"
      }
    },
    {
      "cell_type": "code",
      "source": [
        "from gensim.models import Word2Vec\n",
        "from gensim.models import KeyedVectors\n",
        "\n",
        "# Create a new Word2Vec model\n",
        "model = Word2Vec()\n",
        "\n",
        "# Load the word vectors from the file into the model\n",
        "model.wv = KeyedVectors.load_word2vec_format(\"vect.txt\", binary=False)\n",
        "\n",
        "# Test the loaded word vectors\n",
        "print(model.wv[\"humayun\"])  # Prints the word vector for \"humayun\""
      ],
      "metadata": {
        "colab": {
          "base_uri": "https://localhost:8080/"
        },
        "id": "58GG3JkQIqM3",
        "outputId": "158b61c9-3930-48bf-faf0-ec8ca684da4c"
      },
      "execution_count": 27,
      "outputs": [
        {
          "output_type": "stream",
          "name": "stdout",
          "text": [
            "[-0.383688 -0.524082 -0.299931  0.129047 -0.5988    0.937135  0.412265\n",
            "  0.114471 -0.263363 -0.542627  0.407996 -0.231798 -0.252034  0.202086\n",
            " -0.355531 -0.440317  1.057193  0.432441  0.452379 -0.582004  0.27719\n",
            " -0.147449 -1.006455 -0.109238  0.727237  0.663542 -0.64286   1.09102\n",
            " -0.294408 -0.639995 -0.763926  0.227458  0.117458 -0.236484  0.519763\n",
            "  0.08258   0.189678  0.618167 -0.940678  0.270995 -0.296277 -1.102658\n",
            "  0.171143 -1.11839  -0.568287  0.676445  0.332333  0.160992  0.069567\n",
            "  0.932345]\n"
          ]
        }
      ]
    },
    {
      "cell_type": "markdown",
      "source": [
        "Check similarity"
      ],
      "metadata": {
        "id": "riPKGOkdPneW"
      }
    },
    {
      "cell_type": "code",
      "source": [
        "model.wv.similar_by_key(\"kitab\", topn=int(10))"
      ],
      "metadata": {
        "colab": {
          "base_uri": "https://localhost:8080/"
        },
        "id": "36DuxY6cMSWG",
        "outputId": "8843c73e-5795-482d-b1ea-fcca24e66abf"
      },
      "execution_count": 30,
      "outputs": [
        {
          "output_type": "execute_result",
          "data": {
            "text/plain": [
              "[('alkitab', 0.8845642805099487),\n",
              " ('kitab-kitab', 0.8499119281768799),\n",
              " ('disebutkan', 0.8359673619270325),\n",
              " ('ibrani', 0.8167116045951843),\n",
              " ('dicatat', 0.8077459335327148),\n",
              " ('taurat', 0.765620768070221),\n",
              " ('naskah', 0.7606381773948669),\n",
              " ('rasul', 0.7532821893692017),\n",
              " ('menyebutkan', 0.7524733543395996),\n",
              " ('memuat', 0.7492368817329407)]"
            ]
          },
          "metadata": {},
          "execution_count": 30
        }
      ]
    },
    {
      "cell_type": "markdown",
      "source": [
        "### Make The REST API"
      ],
      "metadata": {
        "id": "ZuG0UfNM4pQ6"
      }
    },
    {
      "cell_type": "markdown",
      "source": [
        "Install Ngrok"
      ],
      "metadata": {
        "id": "pgg7cC9V5D_U"
      }
    },
    {
      "cell_type": "code",
      "source": [
        "!pip install pyngrok"
      ],
      "metadata": {
        "colab": {
          "base_uri": "https://localhost:8080/"
        },
        "id": "IJdIoFYG8Fpa",
        "outputId": "f1f2e23e-62db-4570-c8d6-d52986213000"
      },
      "execution_count": 35,
      "outputs": [
        {
          "output_type": "stream",
          "name": "stdout",
          "text": [
            "Looking in indexes: https://pypi.org/simple, https://us-python.pkg.dev/colab-wheels/public/simple/\n",
            "Collecting pyngrok\n",
            "  Downloading pyngrok-6.0.0.tar.gz (681 kB)\n",
            "\u001b[2K     \u001b[90m━━━━━━━━━━━━━━━━━━━━━━━━━━━━━━━━━━━━━━\u001b[0m \u001b[32m681.2/681.2 kB\u001b[0m \u001b[31m13.0 MB/s\u001b[0m eta \u001b[36m0:00:00\u001b[0m\n",
            "\u001b[?25h  Preparing metadata (setup.py) ... \u001b[?25l\u001b[?25hdone\n",
            "Requirement already satisfied: PyYAML in /usr/local/lib/python3.10/dist-packages (from pyngrok) (6.0)\n",
            "Building wheels for collected packages: pyngrok\n",
            "  Building wheel for pyngrok (setup.py) ... \u001b[?25l\u001b[?25hdone\n",
            "  Created wheel for pyngrok: filename=pyngrok-6.0.0-py3-none-any.whl size=19867 sha256=c642fb91d6e992804cbdabd1e63f6be700684ba5706ffc4e0a00d2861ec18205\n",
            "  Stored in directory: /root/.cache/pip/wheels/5c/42/78/0c3d438d7f5730451a25f7ac6cbf4391759d22a67576ed7c2c\n",
            "Successfully built pyngrok\n",
            "Installing collected packages: pyngrok\n",
            "Successfully installed pyngrok-6.0.0\n"
          ]
        }
      ]
    },
    {
      "cell_type": "markdown",
      "source": [
        "Import Requirement"
      ],
      "metadata": {
        "id": "LbZIGaMIHn3v"
      }
    },
    {
      "cell_type": "code",
      "source": [
        "from pyngrok import ngrok\n",
        "from flask import Flask, jsonify\n",
        "import threading"
      ],
      "metadata": {
        "id": "gAi3YtrG8KcU"
      },
      "execution_count": 36,
      "outputs": []
    },
    {
      "cell_type": "markdown",
      "source": [
        "Set The Authtoken"
      ],
      "metadata": {
        "id": "y-sznWevHqx0"
      }
    },
    {
      "cell_type": "code",
      "source": [
        "!ngrok config add-authtoken 2R6tJfhSTWmVblICqsPcPJW1jRn_4Jgu22dfCyCb5maqzQv9z"
      ],
      "metadata": {
        "colab": {
          "base_uri": "https://localhost:8080/"
        },
        "id": "4mhIszjzBcvA",
        "outputId": "913f6809-0b9a-41b1-9d0e-b4bc3da2a5b8"
      },
      "execution_count": 37,
      "outputs": [
        {
          "output_type": "stream",
          "name": "stdout",
          "text": [
            "Authtoken saved to configuration file: /root/.ngrok2/ngrok.yml\n"
          ]
        }
      ]
    },
    {
      "cell_type": "markdown",
      "source": [
        "Connect local to Ngrok (For make local development available in public)"
      ],
      "metadata": {
        "id": "DZOpqJEfHtV5"
      }
    },
    {
      "cell_type": "code",
      "source": [
        "port = 5000\n",
        "public_url = ngrok.connect(port).public_url\n",
        "\n",
        "print(\" * ngrok tunel \\\"{}\\\" -> http://127.0.0.1:{}\\\"\".format(public_url, port))"
      ],
      "metadata": {
        "colab": {
          "base_uri": "https://localhost:8080/"
        },
        "id": "8ZR1UP49F10Q",
        "outputId": "20ee3891-dafc-4318-b85a-99d48a65ebae"
      },
      "execution_count": 38,
      "outputs": [
        {
          "output_type": "stream",
          "name": "stderr",
          "text": [
            "WARNING:pyngrok.process.ngrok:t=2023-06-13T14:53:17+0000 lvl=warn msg=\"ngrok config file found at legacy location, move to XDG location\" xdg_path=/root/.config/ngrok/ngrok.yml legacy_path=/root/.ngrok2/ngrok.yml\n"
          ]
        },
        {
          "output_type": "stream",
          "name": "stdout",
          "text": [
            " * ngrok tunel \"https://9043-34-168-40-164.ngrok-free.app\" -> http://127.0.0.1:5000\"\n"
          ]
        }
      ]
    },
    {
      "cell_type": "markdown",
      "source": [
        "**REST API**"
      ],
      "metadata": {
        "id": "G5huoJN0H3kx"
      }
    },
    {
      "cell_type": "markdown",
      "source": [
        "Load The Model"
      ],
      "metadata": {
        "id": "Dk3RBHlZYkMs"
      }
    },
    {
      "cell_type": "code",
      "source": [
        "from gensim.models.word2vec import Word2Vec\n",
        "from gensim.models import KeyedVectors\n",
        "import pandas as pd\n",
        "import random\n",
        "import numpy as npy\n",
        "\n",
        "#load model\n",
        "!gdown 1LMy1o7zbuEI8lDdqvA0xx918b8k7Skec\n",
        "!gdown 12yR2JMfXv6Yw-3SkuoI3nuNzfATFJlBl\n",
        "\n",
        "model = Word2Vec.load(\"saved_model\")\n",
        "\n",
        "#load model pre-train GloVe\n",
        "!gdown 1pdmiL-q26YN6gfKgplh8kMrtPPwp_wB_\n",
        "\n",
        "!echo \"331286 50\" > vect.txt\n",
        "!cat vectors.txt >> vect.txt\n",
        "\n",
        "model = Word2Vec()\n",
        "model.wv = KeyedVectors.load_word2vec_format(\"vect.txt\", binary=False)\n",
        "\n",
        "\n",
        "#load available words\n",
        "!git clone https://github.com/damzaky/kumpulan-kata-bahasa-indonesia-KBBI\n",
        "\n",
        "list_words = pd.read_csv('kumpulan-kata-bahasa-indonesia-KBBI/indonesian-words.txt', header=None)\n",
        "list_words.columns = ['word']\n",
        "\n",
        "#load another available words\n",
        "!wget http://www.hikaruyuuki.com/wp-content/uploads/kata-dasar-indonesia.txt\n",
        "\n",
        "def split_tab_lower(text):\n",
        "  skip_word = ['A (n)\\n','B (n)\\n','C (n)\\n','D (n)\\n','E (n)\\n','F (n)\\n','G (n)\\n','H (n)\\n','I (n)\\n','J (n)\\n','K (n)\\n','L (n)\\n','M (n)\\n','N (n)\\n','O (n)\\n','P (n)\\n','Q (n)\\n','R (n)\\n','S (n)\\n','T (n)\\n','U (n)\\n','V (n)\\n','W (n)\\n','X (n)\\n','Y (n)\\n','Z (n)\\n']\n",
        "  if text in skip_word :\n",
        "    return npy.nan\n",
        "  if(len(text.split()) > 2) :\n",
        "    return npy.nan\n",
        "  return text.split()[0].lower()\n",
        "\n",
        "list_words2 = pd.read_csv('kata-dasar-indonesia.txt', header=None)\n",
        "list_words2.columns = [\"word\"]\n",
        "\n",
        "list_words2['word'] = list_words2['word'].apply(split_tab_lower)\n",
        "list_words2 = list_words2.dropna()\n",
        "\n",
        "session2 = {}\n",
        "session2['answer'] = \"\""
      ],
      "metadata": {
        "colab": {
          "base_uri": "https://localhost:8080/"
        },
        "id": "aPbAg997SMpu",
        "outputId": "b9e9d2b6-46c7-48ad-ffd1-3c06dfb399ae"
      },
      "execution_count": 39,
      "outputs": [
        {
          "output_type": "stream",
          "name": "stdout",
          "text": [
            "Downloading...\n",
            "From: https://drive.google.com/uc?id=1LMy1o7zbuEI8lDdqvA0xx918b8k7Skec\n",
            "To: /content/saved_model\n",
            "100% 15.6M/15.6M [00:00<00:00, 28.7MB/s]\n",
            "Downloading...\n",
            "From: https://drive.google.com/uc?id=12yR2JMfXv6Yw-3SkuoI3nuNzfATFJlBl\n",
            "To: /content/saved_model.wv.vectors.npy\n",
            "100% 190M/190M [00:02<00:00, 66.5MB/s]\n",
            "Downloading...\n",
            "From: https://drive.google.com/uc?id=1pdmiL-q26YN6gfKgplh8kMrtPPwp_wB_\n",
            "To: /content/vectors.txt\n",
            "100% 160M/160M [00:01<00:00, 148MB/s]\n",
            "Cloning into 'kumpulan-kata-bahasa-indonesia-KBBI'...\n",
            "remote: Enumerating objects: 16, done.\u001b[K\n",
            "remote: Counting objects: 100% (7/7), done.\u001b[K\n",
            "remote: Compressing objects: 100% (7/7), done.\u001b[K\n",
            "remote: Total 16 (delta 1), reused 2 (delta 0), pack-reused 9\u001b[K\n",
            "Unpacking objects: 100% (16/16), 108.42 KiB | 3.10 MiB/s, done.\n",
            "--2023-06-13 14:53:59--  http://www.hikaruyuuki.com/wp-content/uploads/kata-dasar-indonesia.txt\n",
            "Resolving www.hikaruyuuki.com (www.hikaruyuuki.com)... 119.235.250.50\n",
            "Connecting to www.hikaruyuuki.com (www.hikaruyuuki.com)|119.235.250.50|:80... connected.\n",
            "HTTP request sent, awaiting response... 200 OK\n",
            "Length: 377033 (368K) [text/plain]\n",
            "Saving to: ‘kata-dasar-indonesia.txt’\n",
            "\n",
            "kata-dasar-indonesi 100%[===================>] 368.20K   543KB/s    in 0.7s    \n",
            "\n",
            "2023-06-13 14:54:01 (543 KB/s) - ‘kata-dasar-indonesia.txt’ saved [377033/377033]\n",
            "\n"
          ]
        }
      ]
    },
    {
      "cell_type": "markdown",
      "source": [
        "Flask App"
      ],
      "metadata": {
        "id": "CayVgeWdYqH6"
      }
    },
    {
      "cell_type": "code",
      "source": [
        "app = Flask(__name__)\n",
        "app.config['BASE_URL'] = public_url\n",
        "\n",
        "\n",
        "def generate_response(data, status_code):\n",
        "\n",
        "  # Create JSON response with status code\n",
        "  response = jsonify(data)\n",
        "  response.status_code = status_code\n",
        "\n",
        "  return response\n",
        "\n",
        "def exist_word(word):\n",
        "  #check from all indonesian words\n",
        "  from_dictionary = word in list_words['word'].values\n",
        "  from_dictionary_2 = word in list_words2['word'].values\n",
        "  #check from corpus\n",
        "  from_corpus = word in model.wv\n",
        "\n",
        "  return (from_dictionary_2 or from_dictionary) and from_corpus\n",
        "\n",
        "def exist_guess(word) :\n",
        "  from_corpus = word in model.wv\n",
        "  return from_corpus\n",
        "\n",
        "def generate_answer():\n",
        "  answer = list_words.sample()['word'].values[0]\n",
        "\n",
        "  print(answer)\n",
        "  print(type(answer))\n",
        "\n",
        "  while not exist_word(answer):\n",
        "    if random.choice([0,1]) == 0 :\n",
        "      answer = list_words.sample()['word'].values[0]\n",
        "    else :\n",
        "      answer = list_words2.sample()['word'].values[0]\n",
        "\n",
        "  return answer\n",
        "\n",
        "session2['answer'] = generate_answer()\n",
        "\n",
        "@app.route(\"/\")\n",
        "def index():\n",
        "  # load()\n",
        "  # session2['answer'] = generate_answer()\n",
        "  return \"Welcome to Contex To Indonesia ver\"\n",
        "\n",
        "@app.route(\"/word/<path:word>\")\n",
        "def word(word):\n",
        "  status_code = 200\n",
        "  data = {\n",
        "      'message': word + ' exist',\n",
        "  }\n",
        "\n",
        "  if not exist_guess(word):\n",
        "    data['message'] = word + ' do not exist'\n",
        "    status_code = 404\n",
        "\n",
        "  return generate_response(data, status_code)\n",
        "\n",
        "@app.route(\"/rank/<path:word>\")\n",
        "def rank(word):\n",
        "  status_code = 200\n",
        "  data = {\n",
        "      'message': word + ' exist',\n",
        "  }\n",
        "\n",
        "  if exist_guess(word):\n",
        "    rank = model.wv.rank(session2['answer'], word) + 1\n",
        "\n",
        "    data['data'] = {'rank': rank}\n",
        "    if(rank == 1) :\n",
        "      data['message'] = word + \"is the right guess!!\"\n",
        "\n",
        "  else:\n",
        "    data['message'] = word + ' do not exist'\n",
        "    status_code = 404\n",
        "\n",
        "  return generate_response(data, status_code)\n",
        "\n",
        "@app.route(\"/regenerate\")\n",
        "def regenerate():\n",
        "  session2['answer'] = generate_answer()\n",
        "\n",
        "  status_code = 200\n",
        "  data = {\n",
        "      'message': 'Success to regenerate answer',\n",
        "      'status_code': status_code,\n",
        "  }\n",
        "\n",
        "  return generate_response(data, status_code)\n",
        "\n",
        "@app.route(\"/hint/<path:top>\")\n",
        "def hint(top):\n",
        "  status_code = 200\n",
        "  data = {\n",
        "      'message': 'success to get rank',\n",
        "  }\n",
        "\n",
        "  data['data'] = {'rank': model.wv.similar_by_key(session2['answer'], topn=int(top))}\n",
        "\n",
        "  return generate_response(data, status_code)\n",
        "\n",
        "@app.route(\"/answer\")\n",
        "def answer():\n",
        "  status_code = 200\n",
        "  data = {\n",
        "      'message': 'Success to get answer',\n",
        "      'status_code': status_code,\n",
        "      'data': {\n",
        "          'answer': session2['answer']\n",
        "      }\n",
        "  }\n",
        "  return generate_response(data, status_code)"
      ],
      "metadata": {
        "id": "iZRTUWia_Bow",
        "colab": {
          "base_uri": "https://localhost:8080/"
        },
        "outputId": "c05c7836-c112-488b-d5c9-6638e8f7e6f4"
      },
      "execution_count": 40,
      "outputs": [
        {
          "output_type": "stream",
          "name": "stdout",
          "text": [
            "membonggol\n",
            "<class 'str'>\n"
          ]
        }
      ]
    },
    {
      "cell_type": "markdown",
      "source": [
        "Start the service"
      ],
      "metadata": {
        "id": "9jeX5oHYENxS"
      }
    },
    {
      "cell_type": "code",
      "source": [
        "thread = threading.Thread(target=app.run)#, kwargs={\"use_reloader\": False})\n",
        "thread.start()"
      ],
      "metadata": {
        "colab": {
          "base_uri": "https://localhost:8080/"
        },
        "id": "bzYPH1XXENMx",
        "outputId": "594aba24-acee-4ed5-84a5-5154741396f2"
      },
      "execution_count": 41,
      "outputs": [
        {
          "output_type": "stream",
          "name": "stdout",
          "text": [
            " * Serving Flask app '__main__'\n",
            " * Debug mode: off\n"
          ]
        },
        {
          "output_type": "stream",
          "name": "stderr",
          "text": [
            "INFO:werkzeug:\u001b[31m\u001b[1mWARNING: This is a development server. Do not use it in a production deployment. Use a production WSGI server instead.\u001b[0m\n",
            " * Running on http://127.0.0.1:5000\n",
            "INFO:werkzeug:\u001b[33mPress CTRL+C to quit\u001b[0m\n"
          ]
        }
      ]
    },
    {
      "cell_type": "markdown",
      "source": [
        "Stop the service"
      ],
      "metadata": {
        "id": "xcio4YobEZJj"
      }
    },
    {
      "cell_type": "code",
      "source": [
        "thread.join()"
      ],
      "metadata": {
        "colab": {
          "base_uri": "https://localhost:8080/"
        },
        "id": "kXa5JBSYDwUW",
        "outputId": "2da7885f-3be9-46f9-8b88-f4926317d91f"
      },
      "execution_count": null,
      "outputs": [
        {
          "metadata": {
            "tags": null
          },
          "name": "stderr",
          "output_type": "stream",
          "text": [
            "INFO:werkzeug:127.0.0.1 - - [13/Jun/2023 14:55:26] \"GET / HTTP/1.1\" 200 -\n",
            "INFO:werkzeug:127.0.0.1 - - [13/Jun/2023 14:55:33] \"GET /answer HTTP/1.1\" 200 -\n",
            "INFO:werkzeug:127.0.0.1 - - [13/Jun/2023 14:55:42] \"GET /word/kata HTTP/1.1\" 200 -\n",
            "INFO:werkzeug:127.0.0.1 - - [13/Jun/2023 14:55:43] \"GET /rank/kata HTTP/1.1\" 200 -\n",
            "INFO:werkzeug:127.0.0.1 - - [13/Jun/2023 14:55:49] \"GET /word/hangat HTTP/1.1\" 200 -\n",
            "INFO:werkzeug:127.0.0.1 - - [13/Jun/2023 14:55:50] \"GET /rank/hangat HTTP/1.1\" 200 -\n",
            "INFO:werkzeug:127.0.0.1 - - [13/Jun/2023 14:56:01] \"GET /word/kerja HTTP/1.1\" 200 -\n",
            "INFO:werkzeug:127.0.0.1 - - [13/Jun/2023 14:56:01] \"GET /rank/kerja HTTP/1.1\" 200 -\n",
            "INFO:werkzeug:127.0.0.1 - - [13/Jun/2023 14:56:08] \"\u001b[33mGET /hint HTTP/1.1\u001b[0m\" 404 -\n",
            "INFO:werkzeug:127.0.0.1 - - [13/Jun/2023 14:56:20] \"GET /hint/10 HTTP/1.1\" 200 -\n",
            "INFO:werkzeug:127.0.0.1 - - [13/Jun/2023 14:56:33] \"GET /regenerate HTTP/1.1\" 200 -\n"
          ]
        },
        {
          "metadata": {
            "tags": null
          },
          "name": "stdout",
          "output_type": "stream",
          "text": [
            "audio\n",
            "<class 'str'>\n"
          ]
        },
        {
          "metadata": {
            "tags": null
          },
          "name": "stderr",
          "output_type": "stream",
          "text": [
            "INFO:werkzeug:127.0.0.1 - - [13/Jun/2023 14:56:40] \"GET /word/benda HTTP/1.1\" 200 -\n",
            "INFO:werkzeug:127.0.0.1 - - [13/Jun/2023 14:56:41] \"GET /rank/benda HTTP/1.1\" 200 -\n",
            "INFO:werkzeug:127.0.0.1 - - [13/Jun/2023 14:56:47] \"GET /word/manusia HTTP/1.1\" 200 -\n",
            "INFO:werkzeug:127.0.0.1 - - [13/Jun/2023 14:56:48] \"GET /rank/manusia HTTP/1.1\" 200 -\n",
            "INFO:werkzeug:127.0.0.1 - - [13/Jun/2023 14:56:51] \"GET /word/orang HTTP/1.1\" 200 -\n",
            "INFO:werkzeug:127.0.0.1 - - [13/Jun/2023 14:56:51] \"GET /rank/orang HTTP/1.1\" 200 -\n",
            "INFO:werkzeug:127.0.0.1 - - [13/Jun/2023 14:56:55] \"GET /word/sapi HTTP/1.1\" 200 -\n",
            "INFO:werkzeug:127.0.0.1 - - [13/Jun/2023 14:56:56] \"GET /rank/sapi HTTP/1.1\" 200 -\n",
            "INFO:werkzeug:127.0.0.1 - - [13/Jun/2023 14:57:03] \"GET /word/kamus HTTP/1.1\" 200 -\n",
            "INFO:werkzeug:127.0.0.1 - - [13/Jun/2023 14:57:04] \"GET /rank/kamus HTTP/1.1\" 200 -\n",
            "INFO:werkzeug:127.0.0.1 - - [13/Jun/2023 14:57:08] \"GET /word/buku HTTP/1.1\" 200 -\n",
            "INFO:werkzeug:127.0.0.1 - - [13/Jun/2023 14:57:09] \"GET /rank/buku HTTP/1.1\" 200 -\n",
            "INFO:werkzeug:127.0.0.1 - - [13/Jun/2023 14:57:13] \"GET /word/pelajaran HTTP/1.1\" 200 -\n",
            "INFO:werkzeug:127.0.0.1 - - [13/Jun/2023 14:57:14] \"GET /rank/pelajaran HTTP/1.1\" 200 -\n",
            "INFO:werkzeug:127.0.0.1 - - [13/Jun/2023 14:57:16] \"GET /word/guru HTTP/1.1\" 200 -\n",
            "INFO:werkzeug:127.0.0.1 - - [13/Jun/2023 14:57:17] \"GET /rank/guru HTTP/1.1\" 200 -\n",
            "INFO:werkzeug:127.0.0.1 - - [13/Jun/2023 14:57:21] \"GET /word/bahasa HTTP/1.1\" 200 -\n",
            "INFO:werkzeug:127.0.0.1 - - [13/Jun/2023 14:57:21] \"GET /rank/bahasa HTTP/1.1\" 200 -\n",
            "INFO:werkzeug:127.0.0.1 - - [13/Jun/2023 14:57:27] \"GET /word/indonesia HTTP/1.1\" 200 -\n",
            "INFO:werkzeug:127.0.0.1 - - [13/Jun/2023 14:57:28] \"GET /rank/indonesia HTTP/1.1\" 200 -\n",
            "INFO:werkzeug:127.0.0.1 - - [13/Jun/2023 14:57:31] \"GET /word/pelajaran HTTP/1.1\" 200 -\n",
            "INFO:werkzeug:127.0.0.1 - - [13/Jun/2023 14:57:32] \"GET /rank/pelajaran HTTP/1.1\" 200 -\n",
            "INFO:werkzeug:127.0.0.1 - - [13/Jun/2023 14:57:56] \"GET /word/kata HTTP/1.1\" 200 -\n",
            "INFO:werkzeug:127.0.0.1 - - [13/Jun/2023 14:57:57] \"GET /rank/kata HTTP/1.1\" 200 -\n",
            "INFO:werkzeug:127.0.0.1 - - [13/Jun/2023 14:58:29] \"GET /word/linguistik HTTP/1.1\" 200 -\n",
            "INFO:werkzeug:127.0.0.1 - - [13/Jun/2023 14:58:29] \"GET /rank/linguistik HTTP/1.1\" 200 -\n",
            "INFO:werkzeug:127.0.0.1 - - [13/Jun/2023 14:58:40] \"\u001b[33mGET /word/keterampilan HTTP/1.1\u001b[0m\" 404 -\n",
            "INFO:werkzeug:127.0.0.1 - - [13/Jun/2023 14:58:48] \"GET /word/isyarat HTTP/1.1\" 200 -\n",
            "INFO:werkzeug:127.0.0.1 - - [13/Jun/2023 14:58:49] \"GET /rank/isyarat HTTP/1.1\" 200 -\n",
            "INFO:werkzeug:127.0.0.1 - - [13/Jun/2023 14:58:54] \"GET /word/tangan HTTP/1.1\" 200 -\n",
            "INFO:werkzeug:127.0.0.1 - - [13/Jun/2023 14:58:55] \"GET /rank/tangan HTTP/1.1\" 200 -\n",
            "INFO:werkzeug:127.0.0.1 - - [13/Jun/2023 14:59:08] \"GET /word/gerak HTTP/1.1\" 200 -\n",
            "INFO:werkzeug:127.0.0.1 - - [13/Jun/2023 14:59:09] \"GET /rank/gerak HTTP/1.1\" 200 -\n",
            "INFO:werkzeug:127.0.0.1 - - [13/Jun/2023 14:59:46] \"GET /word/kode HTTP/1.1\" 200 -\n",
            "INFO:werkzeug:127.0.0.1 - - [13/Jun/2023 14:59:47] \"GET /rank/kode HTTP/1.1\" 200 -\n",
            "INFO:werkzeug:127.0.0.1 - - [13/Jun/2023 15:00:07] \"GET /word/cinta HTTP/1.1\" 200 -\n",
            "INFO:werkzeug:127.0.0.1 - - [13/Jun/2023 15:00:08] \"GET /rank/cinta HTTP/1.1\" 200 -\n",
            "INFO:werkzeug:127.0.0.1 - - [13/Jun/2023 15:01:06] \"GET /word/bisu HTTP/1.1\" 200 -\n",
            "INFO:werkzeug:127.0.0.1 - - [13/Jun/2023 15:01:07] \"GET /rank/bisu HTTP/1.1\" 200 -\n",
            "INFO:werkzeug:127.0.0.1 - - [13/Jun/2023 15:01:27] \"GET /word/inggris HTTP/1.1\" 200 -\n",
            "INFO:werkzeug:127.0.0.1 - - [13/Jun/2023 15:01:28] \"GET /rank/inggris HTTP/1.1\" 200 -\n",
            "INFO:werkzeug:127.0.0.1 - - [13/Jun/2023 15:01:42] \"GET /word/kode HTTP/1.1\" 200 -\n",
            "INFO:werkzeug:127.0.0.1 - - [13/Jun/2023 15:01:42] \"GET /rank/kode HTTP/1.1\" 200 -\n",
            "INFO:werkzeug:127.0.0.1 - - [13/Jun/2023 15:01:53] \"GET /word/tanda HTTP/1.1\" 200 -\n",
            "INFO:werkzeug:127.0.0.1 - - [13/Jun/2023 15:01:54] \"GET /rank/tanda HTTP/1.1\" 200 -\n",
            "INFO:werkzeug:127.0.0.1 - - [13/Jun/2023 15:02:55] \"GET /word/komunikasi HTTP/1.1\" 200 -\n",
            "INFO:werkzeug:127.0.0.1 - - [13/Jun/2023 15:02:56] \"GET /rank/komunikasi HTTP/1.1\" 200 -\n",
            "INFO:werkzeug:127.0.0.1 - - [13/Jun/2023 15:03:08] \"GET /word/bicara HTTP/1.1\" 200 -\n",
            "INFO:werkzeug:127.0.0.1 - - [13/Jun/2023 15:03:08] \"GET /rank/bicara HTTP/1.1\" 200 -\n",
            "INFO:werkzeug:127.0.0.1 - - [13/Jun/2023 15:03:16] \"\u001b[33mGET /word/gestur HTTP/1.1\u001b[0m\" 404 -\n",
            "INFO:werkzeug:127.0.0.1 - - [13/Jun/2023 15:03:20] \"\u001b[33mGET /word/gesture HTTP/1.1\u001b[0m\" 404 -\n",
            "INFO:werkzeug:127.0.0.1 - - [13/Jun/2023 15:03:24] \"GET /word/morse HTTP/1.1\" 200 -\n",
            "INFO:werkzeug:127.0.0.1 - - [13/Jun/2023 15:03:25] \"GET /rank/morse HTTP/1.1\" 200 -\n",
            "INFO:werkzeug:127.0.0.1 - - [13/Jun/2023 15:03:40] \"GET /word/tanda HTTP/1.1\" 200 -\n",
            "INFO:werkzeug:127.0.0.1 - - [13/Jun/2023 15:03:41] \"GET /rank/tanda HTTP/1.1\" 200 -\n",
            "INFO:werkzeug:127.0.0.1 - - [13/Jun/2023 15:03:51] \"GET /word/ilmu HTTP/1.1\" 200 -\n",
            "INFO:werkzeug:127.0.0.1 - - [13/Jun/2023 15:03:52] \"GET /rank/ilmu HTTP/1.1\" 200 -\n",
            "INFO:werkzeug:127.0.0.1 - - [13/Jun/2023 15:04:08] \"GET /word/bicara HTTP/1.1\" 200 -\n",
            "INFO:werkzeug:127.0.0.1 - - [13/Jun/2023 15:04:09] \"GET /rank/bicara HTTP/1.1\" 200 -\n",
            "INFO:werkzeug:127.0.0.1 - - [13/Jun/2023 15:04:16] \"GET /word/pidato HTTP/1.1\" 200 -\n",
            "INFO:werkzeug:127.0.0.1 - - [13/Jun/2023 15:04:17] \"GET /rank/pidato HTTP/1.1\" 200 -\n",
            "INFO:werkzeug:127.0.0.1 - - [13/Jun/2023 15:04:35] \"GET /word/suara HTTP/1.1\" 200 -\n",
            "INFO:werkzeug:127.0.0.1 - - [13/Jun/2023 15:04:36] \"GET /rank/suara HTTP/1.1\" 200 -\n",
            "INFO:werkzeug:127.0.0.1 - - [13/Jun/2023 15:04:42] \"GET /word/lidah HTTP/1.1\" 200 -\n",
            "INFO:werkzeug:127.0.0.1 - - [13/Jun/2023 15:04:42] \"GET /rank/lidah HTTP/1.1\" 200 -\n",
            "INFO:werkzeug:127.0.0.1 - - [13/Jun/2023 15:04:57] \"GET /word/kalimat HTTP/1.1\" 200 -\n",
            "INFO:werkzeug:127.0.0.1 - - [13/Jun/2023 15:04:58] \"GET /rank/kalimat HTTP/1.1\" 200 -\n",
            "INFO:werkzeug:127.0.0.1 - - [13/Jun/2023 15:05:08] \"GET /word/presentasi HTTP/1.1\" 200 -\n",
            "INFO:werkzeug:127.0.0.1 - - [13/Jun/2023 15:05:09] \"GET /rank/presentasi HTTP/1.1\" 200 -\n",
            "INFO:werkzeug:127.0.0.1 - - [13/Jun/2023 15:05:16] \"GET /word/sidang HTTP/1.1\" 200 -\n",
            "INFO:werkzeug:127.0.0.1 - - [13/Jun/2023 15:05:17] \"GET /rank/sidang HTTP/1.1\" 200 -\n",
            "INFO:werkzeug:127.0.0.1 - - [13/Jun/2023 15:05:32] \"GET /word/negosiasi HTTP/1.1\" 200 -\n",
            "INFO:werkzeug:127.0.0.1 - - [13/Jun/2023 15:05:33] \"GET /rank/negosiasi HTTP/1.1\" 200 -\n",
            "INFO:werkzeug:127.0.0.1 - - [13/Jun/2023 15:05:43] \"\u001b[33mGET /word/nego HTTP/1.1\u001b[0m\" 404 -\n",
            "INFO:werkzeug:127.0.0.1 - - [13/Jun/2023 15:05:49] \"GET /word/penjelasan HTTP/1.1\" 200 -\n",
            "INFO:werkzeug:127.0.0.1 - - [13/Jun/2023 15:05:50] \"GET /rank/penjelasan HTTP/1.1\" 200 -\n",
            "INFO:werkzeug:127.0.0.1 - - [13/Jun/2023 15:06:02] \"GET /word/guru HTTP/1.1\" 200 -\n",
            "INFO:werkzeug:127.0.0.1 - - [13/Jun/2023 15:06:03] \"GET /rank/guru HTTP/1.1\" 200 -\n",
            "INFO:werkzeug:127.0.0.1 - - [13/Jun/2023 15:06:10] \"GET /word/tugas HTTP/1.1\" 200 -\n",
            "INFO:werkzeug:127.0.0.1 - - [13/Jun/2023 15:06:10] \"GET /rank/tugas HTTP/1.1\" 200 -\n",
            "INFO:werkzeug:127.0.0.1 - - [13/Jun/2023 15:06:34] \"GET /word/mulut HTTP/1.1\" 200 -\n",
            "INFO:werkzeug:127.0.0.1 - - [13/Jun/2023 15:06:35] \"GET /rank/mulut HTTP/1.1\" 200 -\n",
            "INFO:werkzeug:127.0.0.1 - - [13/Jun/2023 15:06:44] \"GET /word/informasi HTTP/1.1\" 200 -\n",
            "INFO:werkzeug:127.0.0.1 - - [13/Jun/2023 15:06:45] \"GET /rank/informasi HTTP/1.1\" 200 -\n",
            "INFO:werkzeug:127.0.0.1 - - [13/Jun/2023 15:07:20] \"\u001b[33mGET /word/closing HTTP/1.1\u001b[0m\" 404 -\n",
            "INFO:werkzeug:127.0.0.1 - - [13/Jun/2023 15:07:39] \"GET /hint/25 HTTP/1.1\" 200 -\n",
            "INFO:werkzeug:127.0.0.1 - - [13/Jun/2023 15:07:57] \"GET /word/music HTTP/1.1\" 200 -\n",
            "INFO:werkzeug:127.0.0.1 - - [13/Jun/2023 15:07:58] \"GET /rank/music HTTP/1.1\" 200 -\n",
            "INFO:werkzeug:127.0.0.1 - - [13/Jun/2023 15:08:01] \"GET /word/musik HTTP/1.1\" 200 -\n",
            "INFO:werkzeug:127.0.0.1 - - [13/Jun/2023 15:08:02] \"GET /rank/musik HTTP/1.1\" 200 -\n",
            "INFO:werkzeug:127.0.0.1 - - [13/Jun/2023 15:08:10] \"GET /word/audio HTTP/1.1\" 200 -\n",
            "INFO:werkzeug:127.0.0.1 - - [13/Jun/2023 15:08:11] \"GET /rank/audio HTTP/1.1\" 200 -\n",
            "INFO:werkzeug:127.0.0.1 - - [13/Jun/2023 15:08:49] \"GET /answer HTTP/1.1\" 200 -\n",
            "INFO:werkzeug:127.0.0.1 - - [13/Jun/2023 15:09:01] \"GET /hint/10 HTTP/1.1\" 200 -\n",
            "INFO:werkzeug:127.0.0.1 - - [13/Jun/2023 15:09:07] \"GET /word/digital HTTP/1.1\" 200 -\n",
            "INFO:werkzeug:127.0.0.1 - - [13/Jun/2023 15:09:08] \"GET /rank/digital HTTP/1.1\" 200 -\n",
            "INFO:werkzeug:127.0.0.1 - - [13/Jun/2023 15:09:55] \"GET /regenerate HTTP/1.1\" 200 -\n"
          ]
        },
        {
          "metadata": {
            "tags": null
          },
          "name": "stdout",
          "output_type": "stream",
          "text": [
            "akil\n",
            "<class 'str'>\n"
          ]
        },
        {
          "output_type": "stream",
          "name": "stderr",
          "text": [
            "INFO:werkzeug:127.0.0.1 - - [13/Jun/2023 15:10:49] \"GET /word/benda HTTP/1.1\" 200 -\n",
            "INFO:werkzeug:127.0.0.1 - - [13/Jun/2023 15:10:50] \"GET /rank/benda HTTP/1.1\" 200 -\n",
            "INFO:werkzeug:127.0.0.1 - - [13/Jun/2023 15:11:27] \"GET /word/benda HTTP/1.1\" 200 -\n",
            "INFO:werkzeug:127.0.0.1 - - [13/Jun/2023 15:11:28] \"GET /rank/benda HTTP/1.1\" 200 -\n",
            "INFO:werkzeug:127.0.0.1 - - [13/Jun/2023 15:13:06] \"GET /word/benda HTTP/1.1\" 200 -\n",
            "INFO:werkzeug:127.0.0.1 - - [13/Jun/2023 15:13:06] \"GET /rank/benda HTTP/1.1\" 200 -\n",
            "INFO:werkzeug:127.0.0.1 - - [13/Jun/2023 15:14:01] \"GET /word/benda HTTP/1.1\" 200 -\n",
            "INFO:werkzeug:127.0.0.1 - - [13/Jun/2023 15:14:02] \"GET /rank/benda HTTP/1.1\" 200 -\n",
            "INFO:werkzeug:127.0.0.1 - - [13/Jun/2023 15:14:31] \"GET /word/benda HTTP/1.1\" 200 -\n",
            "INFO:werkzeug:127.0.0.1 - - [13/Jun/2023 15:14:32] \"GET /rank/benda HTTP/1.1\" 200 -\n",
            "INFO:werkzeug:127.0.0.1 - - [13/Jun/2023 15:14:45] \"GET /word/bagus HTTP/1.1\" 200 -\n",
            "INFO:werkzeug:127.0.0.1 - - [13/Jun/2023 15:14:46] \"GET /rank/bagus HTTP/1.1\" 200 -\n",
            "INFO:werkzeug:127.0.0.1 - - [13/Jun/2023 15:15:20] \"GET /word/benda HTTP/1.1\" 200 -\n",
            "INFO:werkzeug:127.0.0.1 - - [13/Jun/2023 15:15:21] \"GET /rank/benda HTTP/1.1\" 200 -\n",
            "INFO:werkzeug:127.0.0.1 - - [13/Jun/2023 15:16:20] \"GET /word/benda HTTP/1.1\" 200 -\n",
            "INFO:werkzeug:127.0.0.1 - - [13/Jun/2023 15:16:21] \"GET /rank/benda HTTP/1.1\" 200 -\n",
            "INFO:werkzeug:127.0.0.1 - - [13/Jun/2023 15:16:52] \"GET /word/benda HTTP/1.1\" 200 -\n",
            "INFO:werkzeug:127.0.0.1 - - [13/Jun/2023 15:16:53] \"GET /rank/benda HTTP/1.1\" 200 -\n",
            "INFO:werkzeug:127.0.0.1 - - [13/Jun/2023 15:17:13] \"GET /word/benda HTTP/1.1\" 200 -\n",
            "INFO:werkzeug:127.0.0.1 - - [13/Jun/2023 15:17:14] \"GET /rank/benda HTTP/1.1\" 200 -\n",
            "INFO:werkzeug:127.0.0.1 - - [13/Jun/2023 15:17:18] \"GET /word/kata HTTP/1.1\" 200 -\n",
            "INFO:werkzeug:127.0.0.1 - - [13/Jun/2023 15:17:19] \"GET /rank/kata HTTP/1.1\" 200 -\n",
            "INFO:werkzeug:127.0.0.1 - - [13/Jun/2023 15:17:23] \"GET /word/budaya HTTP/1.1\" 200 -\n",
            "INFO:werkzeug:127.0.0.1 - - [13/Jun/2023 15:17:24] \"GET /rank/budaya HTTP/1.1\" 200 -\n",
            "INFO:werkzeug:127.0.0.1 - - [13/Jun/2023 15:17:31] \"GET /word/pohon HTTP/1.1\" 200 -\n",
            "INFO:werkzeug:127.0.0.1 - - [13/Jun/2023 15:17:32] \"GET /rank/pohon HTTP/1.1\" 200 -\n",
            "INFO:werkzeug:127.0.0.1 - - [13/Jun/2023 15:17:36] \"GET /word/hewan HTTP/1.1\" 200 -\n",
            "INFO:werkzeug:127.0.0.1 - - [13/Jun/2023 15:17:37] \"GET /rank/hewan HTTP/1.1\" 200 -\n",
            "INFO:werkzeug:127.0.0.1 - - [13/Jun/2023 15:17:40] \"GET /word/manusia HTTP/1.1\" 200 -\n",
            "INFO:werkzeug:127.0.0.1 - - [13/Jun/2023 15:17:41] \"GET /rank/manusia HTTP/1.1\" 200 -\n",
            "INFO:werkzeug:127.0.0.1 - - [13/Jun/2023 15:17:46] \"GET /word/bahasa HTTP/1.1\" 200 -\n",
            "INFO:werkzeug:127.0.0.1 - - [13/Jun/2023 15:17:47] \"GET /rank/bahasa HTTP/1.1\" 200 -\n",
            "INFO:werkzeug:127.0.0.1 - - [13/Jun/2023 15:17:54] \"\u001b[33mGET /word/pekerjaan HTTP/1.1\u001b[0m\" 404 -\n",
            "INFO:werkzeug:127.0.0.1 - - [13/Jun/2023 15:17:57] \"GET /word/kerja HTTP/1.1\" 200 -\n",
            "INFO:werkzeug:127.0.0.1 - - [13/Jun/2023 15:17:58] \"GET /rank/kerja HTTP/1.1\" 200 -\n",
            "INFO:werkzeug:127.0.0.1 - - [13/Jun/2023 15:18:29] \"GET /word/tubuh HTTP/1.1\" 200 -\n",
            "INFO:werkzeug:127.0.0.1 - - [13/Jun/2023 15:18:30] \"GET /rank/tubuh HTTP/1.1\" 200 -\n",
            "INFO:werkzeug:127.0.0.1 - - [13/Jun/2023 15:18:35] \"GET /word/gerak HTTP/1.1\" 200 -\n",
            "INFO:werkzeug:127.0.0.1 - - [13/Jun/2023 15:18:36] \"GET /rank/gerak HTTP/1.1\" 200 -\n",
            "INFO:werkzeug:127.0.0.1 - - [13/Jun/2023 15:18:39] \"GET /word/mata HTTP/1.1\" 200 -\n",
            "INFO:werkzeug:127.0.0.1 - - [13/Jun/2023 15:18:41] \"GET /rank/mata HTTP/1.1\" 200 -\n",
            "INFO:werkzeug:127.0.0.1 - - [13/Jun/2023 15:18:49] \"GET /word/rambut HTTP/1.1\" 200 -\n",
            "INFO:werkzeug:127.0.0.1 - - [13/Jun/2023 15:18:49] \"GET /rank/rambut HTTP/1.1\" 200 -\n",
            "INFO:werkzeug:127.0.0.1 - - [13/Jun/2023 15:18:55] \"GET /word/penampilan HTTP/1.1\" 200 -\n",
            "INFO:werkzeug:127.0.0.1 - - [13/Jun/2023 15:18:56] \"GET /rank/penampilan HTTP/1.1\" 200 -\n",
            "INFO:werkzeug:127.0.0.1 - - [13/Jun/2023 15:19:01] \"GET /word/hidung HTTP/1.1\" 200 -\n",
            "INFO:werkzeug:127.0.0.1 - - [13/Jun/2023 15:19:02] \"GET /rank/hidung HTTP/1.1\" 200 -\n",
            "INFO:werkzeug:127.0.0.1 - - [13/Jun/2023 15:19:08] \"GET /word/mulut HTTP/1.1\" 200 -\n",
            "INFO:werkzeug:127.0.0.1 - - [13/Jun/2023 15:19:09] \"GET /rank/mulut HTTP/1.1\" 200 -\n",
            "INFO:werkzeug:127.0.0.1 - - [13/Jun/2023 15:19:13] \"GET /word/telinga HTTP/1.1\" 200 -\n",
            "INFO:werkzeug:127.0.0.1 - - [13/Jun/2023 15:19:14] \"GET /rank/telinga HTTP/1.1\" 200 -\n",
            "INFO:werkzeug:127.0.0.1 - - [13/Jun/2023 15:19:17] \"GET /word/wajah HTTP/1.1\" 200 -\n",
            "INFO:werkzeug:127.0.0.1 - - [13/Jun/2023 15:19:18] \"GET /rank/wajah HTTP/1.1\" 200 -\n",
            "INFO:werkzeug:127.0.0.1 - - [13/Jun/2023 15:19:25] \"GET /word/cantik HTTP/1.1\" 200 -\n",
            "INFO:werkzeug:127.0.0.1 - - [13/Jun/2023 15:19:26] \"GET /rank/cantik HTTP/1.1\" 200 -\n",
            "INFO:werkzeug:127.0.0.1 - - [13/Jun/2023 15:19:33] \"GET /word/warna HTTP/1.1\" 200 -\n",
            "INFO:werkzeug:127.0.0.1 - - [13/Jun/2023 15:19:34] \"GET /rank/warna HTTP/1.1\" 200 -\n",
            "INFO:werkzeug:127.0.0.1 - - [13/Jun/2023 15:20:33] \"GET /word/organ HTTP/1.1\" 200 -\n",
            "INFO:werkzeug:127.0.0.1 - - [13/Jun/2023 15:20:34] \"GET /rank/organ HTTP/1.1\" 200 -\n",
            "INFO:werkzeug:127.0.0.1 - - [13/Jun/2023 15:20:48] \"GET /word/alis HTTP/1.1\" 200 -\n",
            "INFO:werkzeug:127.0.0.1 - - [13/Jun/2023 15:20:49] \"GET /rank/alis HTTP/1.1\" 200 -\n",
            "INFO:werkzeug:127.0.0.1 - - [13/Jun/2023 15:20:54] \"GET /word/lubang HTTP/1.1\" 200 -\n",
            "INFO:werkzeug:127.0.0.1 - - [13/Jun/2023 15:20:54] \"GET /rank/lubang HTTP/1.1\" 200 -\n",
            "INFO:werkzeug:127.0.0.1 - - [13/Jun/2023 15:21:00] \"\u001b[33mGET /word/pendengaran HTTP/1.1\u001b[0m\" 404 -\n",
            "INFO:werkzeug:127.0.0.1 - - [13/Jun/2023 15:21:03] \"GET /word/indra HTTP/1.1\" 200 -\n",
            "INFO:werkzeug:127.0.0.1 - - [13/Jun/2023 15:21:04] \"GET /rank/indra HTTP/1.1\" 200 -\n",
            "INFO:werkzeug:127.0.0.1 - - [13/Jun/2023 15:21:10] \"\u001b[33mGET /word/mendengar HTTP/1.1\u001b[0m\" 404 -\n",
            "INFO:werkzeug:127.0.0.1 - - [13/Jun/2023 15:21:13] \"GET /word/dengar HTTP/1.1\" 200 -\n",
            "INFO:werkzeug:127.0.0.1 - - [13/Jun/2023 15:21:13] \"GET /rank/dengar HTTP/1.1\" 200 -\n",
            "INFO:werkzeug:127.0.0.1 - - [13/Jun/2023 15:21:25] \"GET /word/digital HTTP/1.1\" 200 -\n",
            "INFO:werkzeug:127.0.0.1 - - [13/Jun/2023 15:21:26] \"GET /rank/digital HTTP/1.1\" 200 -\n",
            "INFO:werkzeug:127.0.0.1 - - [13/Jun/2023 15:21:34] \"GET /word/analog HTTP/1.1\" 200 -\n",
            "INFO:werkzeug:127.0.0.1 - - [13/Jun/2023 15:21:35] \"GET /rank/analog HTTP/1.1\" 200 -\n",
            "INFO:werkzeug:127.0.0.1 - - [13/Jun/2023 15:21:43] \"\u001b[33mGET /word/panca HTTP/1.1\u001b[0m\" 404 -\n",
            "INFO:werkzeug:127.0.0.1 - - [13/Jun/2023 15:22:29] \"GET /word/bulu HTTP/1.1\" 200 -\n",
            "INFO:werkzeug:127.0.0.1 - - [13/Jun/2023 15:22:30] \"GET /rank/bulu HTTP/1.1\" 200 -\n",
            "INFO:werkzeug:127.0.0.1 - - [13/Jun/2023 15:22:37] \"GET /word/ketiak HTTP/1.1\" 200 -\n",
            "INFO:werkzeug:127.0.0.1 - - [13/Jun/2023 15:22:37] \"GET /rank/ketiak HTTP/1.1\" 200 -\n",
            "INFO:werkzeug:127.0.0.1 - - [13/Jun/2023 15:22:40] \"GET /word/dada HTTP/1.1\" 200 -\n",
            "INFO:werkzeug:127.0.0.1 - - [13/Jun/2023 15:22:41] \"GET /rank/dada HTTP/1.1\" 200 -\n",
            "INFO:werkzeug:127.0.0.1 - - [13/Jun/2023 15:22:59] \"GET /word/daun HTTP/1.1\" 200 -\n",
            "INFO:werkzeug:127.0.0.1 - - [13/Jun/2023 15:22:59] \"GET /rank/daun HTTP/1.1\" 200 -\n",
            "INFO:werkzeug:127.0.0.1 - - [13/Jun/2023 15:23:10] \"GET /word/gigi HTTP/1.1\" 200 -\n",
            "INFO:werkzeug:127.0.0.1 - - [13/Jun/2023 15:23:10] \"GET /rank/gigi HTTP/1.1\" 200 -\n",
            "INFO:werkzeug:127.0.0.1 - - [13/Jun/2023 15:23:15] \"GET /word/lidah HTTP/1.1\" 200 -\n",
            "INFO:werkzeug:127.0.0.1 - - [13/Jun/2023 15:23:16] \"GET /rank/lidah HTTP/1.1\" 200 -\n",
            "INFO:werkzeug:127.0.0.1 - - [13/Jun/2023 15:23:24] \"GET /word/virus HTTP/1.1\" 200 -\n",
            "INFO:werkzeug:127.0.0.1 - - [13/Jun/2023 15:23:25] \"GET /rank/virus HTTP/1.1\" 200 -\n",
            "INFO:werkzeug:127.0.0.1 - - [13/Jun/2023 15:23:28] \"GET /word/karang HTTP/1.1\" 200 -\n",
            "INFO:werkzeug:127.0.0.1 - - [13/Jun/2023 15:23:29] \"GET /rank/karang HTTP/1.1\" 200 -\n",
            "INFO:werkzeug:127.0.0.1 - - [13/Jun/2023 15:23:44] \"GET /word/putih HTTP/1.1\" 200 -\n",
            "INFO:werkzeug:127.0.0.1 - - [13/Jun/2023 15:23:45] \"GET /rank/putih HTTP/1.1\" 200 -\n",
            "INFO:werkzeug:127.0.0.1 - - [13/Jun/2023 15:24:46] \"GET /word/gusi HTTP/1.1\" 200 -\n",
            "INFO:werkzeug:127.0.0.1 - - [13/Jun/2023 15:24:47] \"GET /rank/gusi HTTP/1.1\" 200 -\n",
            "INFO:werkzeug:127.0.0.1 - - [13/Jun/2023 15:24:53] \"GET /word/daging HTTP/1.1\" 200 -\n",
            "INFO:werkzeug:127.0.0.1 - - [13/Jun/2023 15:24:54] \"GET /rank/daging HTTP/1.1\" 200 -\n",
            "INFO:werkzeug:127.0.0.1 - - [13/Jun/2023 15:25:06] \"GET /word/merah HTTP/1.1\" 200 -\n",
            "INFO:werkzeug:127.0.0.1 - - [13/Jun/2023 15:25:07] \"GET /rank/merah HTTP/1.1\" 200 -\n",
            "INFO:werkzeug:127.0.0.1 - - [13/Jun/2023 15:25:24] \"\u001b[33mGET /word/sariawan HTTP/1.1\u001b[0m\" 404 -\n",
            "INFO:werkzeug:127.0.0.1 - - [13/Jun/2023 15:25:41] \"GET /word/sakit HTTP/1.1\" 200 -\n",
            "INFO:werkzeug:127.0.0.1 - - [13/Jun/2023 15:25:42] \"GET /rank/sakit HTTP/1.1\" 200 -\n",
            "INFO:werkzeug:127.0.0.1 - - [13/Jun/2023 15:25:46] \"GET /word/penyakit HTTP/1.1\" 200 -\n",
            "INFO:werkzeug:127.0.0.1 - - [13/Jun/2023 15:25:47] \"GET /rank/penyakit HTTP/1.1\" 200 -\n",
            "INFO:werkzeug:127.0.0.1 - - [13/Jun/2023 15:25:54] \"GET /word/karies HTTP/1.1\" 200 -\n",
            "INFO:werkzeug:127.0.0.1 - - [13/Jun/2023 15:25:55] \"GET /rank/karies HTTP/1.1\" 200 -\n",
            "INFO:werkzeug:127.0.0.1 - - [13/Jun/2023 15:26:01] \"\u001b[33mGET /word/karises HTTP/1.1\u001b[0m\" 404 -\n",
            "INFO:werkzeug:127.0.0.1 - - [13/Jun/2023 15:26:06] \"GET /word/operasi HTTP/1.1\" 200 -\n",
            "INFO:werkzeug:127.0.0.1 - - [13/Jun/2023 15:26:07] \"GET /rank/operasi HTTP/1.1\" 200 -\n",
            "INFO:werkzeug:127.0.0.1 - - [13/Jun/2023 15:27:45] \"GET /word/kerak HTTP/1.1\" 200 -\n",
            "INFO:werkzeug:127.0.0.1 - - [13/Jun/2023 15:27:46] \"GET /rank/kerak HTTP/1.1\" 200 -\n",
            "INFO:werkzeug:127.0.0.1 - - [13/Jun/2023 15:33:59] \"GET /word/taring HTTP/1.1\" 200 -\n",
            "INFO:werkzeug:127.0.0.1 - - [13/Jun/2023 15:34:00] \"GET /rank/taring HTTP/1.1\" 200 -\n",
            "INFO:werkzeug:127.0.0.1 - - [13/Jun/2023 15:34:23] \"GET /hint/25 HTTP/1.1\" 200 -\n",
            "INFO:werkzeug:127.0.0.1 - - [13/Jun/2023 15:34:47] \"GET /word/menstruasi HTTP/1.1\" 200 -\n",
            "INFO:werkzeug:127.0.0.1 - - [13/Jun/2023 15:34:48] \"GET /rank/menstruasi HTTP/1.1\" 200 -\n",
            "INFO:werkzeug:127.0.0.1 - - [13/Jun/2023 15:35:01] \"GET /word/mens HTTP/1.1\" 200 -\n",
            "INFO:werkzeug:127.0.0.1 - - [13/Jun/2023 15:35:02] \"GET /rank/mens HTTP/1.1\" 200 -\n",
            "INFO:werkzeug:127.0.0.1 - - [13/Jun/2023 15:35:06] \"GET /word/kanker HTTP/1.1\" 200 -\n",
            "INFO:werkzeug:127.0.0.1 - - [13/Jun/2023 15:35:07] \"GET /rank/kanker HTTP/1.1\" 200 -\n",
            "INFO:werkzeug:127.0.0.1 - - [13/Jun/2023 15:35:25] \"GET /answer HTTP/1.1\" 200 -\n",
            "INFO:werkzeug:127.0.0.1 - - [13/Jun/2023 15:46:31] \"\u001b[33mGET /word/asdf HTTP/1.1\u001b[0m\" 404 -\n",
            "INFO:werkzeug:127.0.0.1 - - [13/Jun/2023 16:47:55] \"GET /word/benda HTTP/1.1\" 200 -\n",
            "INFO:werkzeug:127.0.0.1 - - [13/Jun/2023 16:47:56] \"GET /rank/benda HTTP/1.1\" 200 -\n",
            "INFO:werkzeug:127.0.0.1 - - [13/Jun/2023 16:48:37] \"GET /word/keranjang HTTP/1.1\" 200 -\n",
            "INFO:werkzeug:127.0.0.1 - - [13/Jun/2023 16:48:38] \"GET /rank/keranjang HTTP/1.1\" 200 -\n",
            "INFO:werkzeug:127.0.0.1 - - [13/Jun/2023 16:48:43] \"GET /word/manusia HTTP/1.1\" 200 -\n",
            "INFO:werkzeug:127.0.0.1 - - [13/Jun/2023 16:48:44] \"GET /rank/manusia HTTP/1.1\" 200 -\n",
            "INFO:werkzeug:127.0.0.1 - - [13/Jun/2023 16:48:47] \"GET /word/orang HTTP/1.1\" 200 -\n",
            "INFO:werkzeug:127.0.0.1 - - [13/Jun/2023 16:48:48] \"GET /rank/orang HTTP/1.1\" 200 -\n",
            "INFO:werkzeug:127.0.0.1 - - [13/Jun/2023 16:48:52] \"GET /word/hewan HTTP/1.1\" 200 -\n",
            "INFO:werkzeug:127.0.0.1 - - [13/Jun/2023 16:48:53] \"GET /rank/hewan HTTP/1.1\" 200 -\n",
            "INFO:werkzeug:127.0.0.1 - - [13/Jun/2023 16:48:57] \"\u001b[33mGET /word/tumbuhan HTTP/1.1\u001b[0m\" 404 -\n",
            "INFO:werkzeug:127.0.0.1 - - [13/Jun/2023 16:49:01] \"GET /word/tanaman HTTP/1.1\" 200 -\n",
            "INFO:werkzeug:127.0.0.1 - - [13/Jun/2023 16:49:02] \"GET /rank/tanaman HTTP/1.1\" 200 -\n",
            "INFO:werkzeug:127.0.0.1 - - [13/Jun/2023 16:49:06] \"GET /word/badut HTTP/1.1\" 200 -\n",
            "INFO:werkzeug:127.0.0.1 - - [13/Jun/2023 16:49:07] \"GET /rank/badut HTTP/1.1\" 200 -\n",
            "INFO:werkzeug:127.0.0.1 - - [13/Jun/2023 16:49:10] \"GET /word/cinta HTTP/1.1\" 200 -\n",
            "INFO:werkzeug:127.0.0.1 - - [13/Jun/2023 16:49:11] \"GET /rank/cinta HTTP/1.1\" 200 -\n",
            "INFO:werkzeug:127.0.0.1 - - [13/Jun/2023 16:49:15] \"GET /word/organ HTTP/1.1\" 200 -\n",
            "INFO:werkzeug:127.0.0.1 - - [13/Jun/2023 16:49:16] \"GET /rank/organ HTTP/1.1\" 200 -\n",
            "INFO:werkzeug:127.0.0.1 - - [13/Jun/2023 16:49:19] \"\u001b[33mGET /word/perasaan HTTP/1.1\u001b[0m\" 404 -\n",
            "INFO:werkzeug:127.0.0.1 - - [13/Jun/2023 16:49:22] \"GET /word/rasa HTTP/1.1\" 200 -\n",
            "INFO:werkzeug:127.0.0.1 - - [13/Jun/2023 16:49:23] \"GET /rank/rasa HTTP/1.1\" 200 -\n",
            "INFO:werkzeug:127.0.0.1 - - [13/Jun/2023 16:49:28] \"GET /word/kenyang HTTP/1.1\" 200 -\n",
            "INFO:werkzeug:127.0.0.1 - - [13/Jun/2023 16:49:29] \"GET /rank/kenyang HTTP/1.1\" 200 -\n",
            "INFO:werkzeug:127.0.0.1 - - [13/Jun/2023 16:49:33] \"GET /word/hati HTTP/1.1\" 200 -\n",
            "INFO:werkzeug:127.0.0.1 - - [13/Jun/2023 16:49:34] \"GET /rank/hati HTTP/1.1\" 200 -\n",
            "INFO:werkzeug:127.0.0.1 - - [13/Jun/2023 16:51:19] \"GET /hint/25 HTTP/1.1\" 200 -\n",
            "INFO:werkzeug:127.0.0.1 - - [13/Jun/2023 16:51:32] \"GET /hint/25 HTTP/1.1\" 200 -\n",
            "INFO:werkzeug:127.0.0.1 - - [13/Jun/2023 16:51:46] \"GET /hint/25 HTTP/1.1\" 200 -\n",
            "INFO:werkzeug:127.0.0.1 - - [13/Jun/2023 16:54:17] \"GET /hint/25 HTTP/1.1\" 200 -\n",
            "INFO:werkzeug:127.0.0.1 - - [13/Jun/2023 16:54:59] \"GET /hint/25 HTTP/1.1\" 200 -\n",
            "INFO:werkzeug:127.0.0.1 - - [13/Jun/2023 16:55:07] \"GET /hint/25 HTTP/1.1\" 200 -\n",
            "INFO:werkzeug:127.0.0.1 - - [13/Jun/2023 16:55:09] \"GET /hint/25 HTTP/1.1\" 200 -\n",
            "INFO:werkzeug:127.0.0.1 - - [13/Jun/2023 16:55:11] \"GET /hint/25 HTTP/1.1\" 200 -\n",
            "INFO:werkzeug:127.0.0.1 - - [13/Jun/2023 16:55:13] \"GET /hint/25 HTTP/1.1\" 200 -\n",
            "INFO:werkzeug:127.0.0.1 - - [13/Jun/2023 16:55:15] \"GET /hint/25 HTTP/1.1\" 200 -\n",
            "INFO:werkzeug:127.0.0.1 - - [13/Jun/2023 16:56:05] \"GET /hint/25 HTTP/1.1\" 200 -\n",
            "INFO:werkzeug:127.0.0.1 - - [13/Jun/2023 16:56:06] \"GET /word/prematur HTTP/1.1\" 200 -\n",
            "INFO:werkzeug:127.0.0.1 - - [13/Jun/2023 16:56:07] \"GET /rank/prematur HTTP/1.1\" 200 -\n",
            "INFO:werkzeug:127.0.0.1 - - [13/Jun/2023 16:56:12] \"GET /hint/25 HTTP/1.1\" 200 -\n",
            "INFO:werkzeug:127.0.0.1 - - [13/Jun/2023 16:56:12] \"\u001b[33mGET /word/hadidjah HTTP/1.1\u001b[0m\" 404 -\n",
            "INFO:werkzeug:127.0.0.1 - - [13/Jun/2023 16:56:17] \"GET /hint/25 HTTP/1.1\" 200 -\n",
            "INFO:werkzeug:127.0.0.1 - - [13/Jun/2023 16:56:18] \"\u001b[33mGET /word/spjp HTTP/1.1\u001b[0m\" 404 -\n",
            "INFO:werkzeug:127.0.0.1 - - [13/Jun/2023 16:56:22] \"GET /hint/25 HTTP/1.1\" 200 -\n",
            "INFO:werkzeug:127.0.0.1 - - [13/Jun/2023 16:56:23] \"\u001b[33mGET /word/saifuddin HTTP/1.1\u001b[0m\" 404 -\n",
            "INFO:werkzeug:127.0.0.1 - - [13/Jun/2023 16:56:26] \"GET /hint/25 HTTP/1.1\" 200 -\n",
            "INFO:werkzeug:127.0.0.1 - - [13/Jun/2023 16:56:27] \"\u001b[33mGET /word/al-khateeb HTTP/1.1\u001b[0m\" 404 -\n",
            "INFO:werkzeug:127.0.0.1 - - [13/Jun/2023 16:56:30] \"GET /hint/25 HTTP/1.1\" 200 -\n",
            "INFO:werkzeug:127.0.0.1 - - [13/Jun/2023 16:56:31] \"\u001b[33mGET /word/berkasjames HTTP/1.1\u001b[0m\" 404 -\n",
            "INFO:werkzeug:127.0.0.1 - - [13/Jun/2023 16:56:34] \"GET /hint/25 HTTP/1.1\" 200 -\n",
            "INFO:werkzeug:127.0.0.1 - - [13/Jun/2023 16:56:35] \"\u001b[33mGET /word/al-idrus HTTP/1.1\u001b[0m\" 404 -\n",
            "INFO:werkzeug:127.0.0.1 - - [13/Jun/2023 16:56:39] \"GET /hint/25 HTTP/1.1\" 200 -\n",
            "INFO:werkzeug:127.0.0.1 - - [13/Jun/2023 16:56:40] \"\u001b[33mGET /word/lpf HTTP/1.1\u001b[0m\" 404 -\n",
            "INFO:werkzeug:127.0.0.1 - - [13/Jun/2023 16:56:43] \"GET /hint/25 HTTP/1.1\" 200 -\n",
            "INFO:werkzeug:127.0.0.1 - - [13/Jun/2023 16:56:44] \"\u001b[33mGET /word/kamaruddin HTTP/1.1\u001b[0m\" 404 -\n",
            "INFO:werkzeug:127.0.0.1 - - [13/Jun/2023 16:56:52] \"GET /regenerate HTTP/1.1\" 200 -\n"
          ]
        },
        {
          "output_type": "stream",
          "name": "stdout",
          "text": [
            "kemilap\n",
            "<class 'str'>\n"
          ]
        },
        {
          "output_type": "stream",
          "name": "stderr",
          "text": [
            "INFO:werkzeug:127.0.0.1 - - [13/Jun/2023 16:56:54] \"GET /answer HTTP/1.1\" 200 -\n",
            "INFO:werkzeug:127.0.0.1 - - [13/Jun/2023 16:56:57] \"GET /regenerate HTTP/1.1\" 200 -\n"
          ]
        },
        {
          "output_type": "stream",
          "name": "stdout",
          "text": [
            "harap-harapan\n",
            "<class 'str'>\n"
          ]
        },
        {
          "output_type": "stream",
          "name": "stderr",
          "text": [
            "INFO:werkzeug:127.0.0.1 - - [13/Jun/2023 16:56:59] \"GET /answer HTTP/1.1\" 200 -\n",
            "INFO:werkzeug:127.0.0.1 - - [13/Jun/2023 16:57:02] \"GET /regenerate HTTP/1.1\" 200 -\n"
          ]
        },
        {
          "output_type": "stream",
          "name": "stdout",
          "text": [
            "berkapitulasi\n",
            "<class 'str'>\n"
          ]
        },
        {
          "output_type": "stream",
          "name": "stderr",
          "text": [
            "INFO:werkzeug:127.0.0.1 - - [13/Jun/2023 16:57:04] \"GET /answer HTTP/1.1\" 200 -\n",
            "INFO:werkzeug:127.0.0.1 - - [13/Jun/2023 16:57:07] \"GET /regenerate HTTP/1.1\" 200 -\n"
          ]
        },
        {
          "output_type": "stream",
          "name": "stdout",
          "text": [
            "bengong\n",
            "<class 'str'>\n"
          ]
        },
        {
          "output_type": "stream",
          "name": "stderr",
          "text": [
            "INFO:werkzeug:127.0.0.1 - - [13/Jun/2023 16:57:09] \"GET /answer HTTP/1.1\" 200 -\n",
            "INFO:werkzeug:127.0.0.1 - - [13/Jun/2023 16:57:14] \"GET /hint/25 HTTP/1.1\" 200 -\n",
            "INFO:werkzeug:127.0.0.1 - - [13/Jun/2023 16:57:15] \"\u001b[33mGET /word/rudolphine HTTP/1.1\u001b[0m\" 404 -\n",
            "INFO:werkzeug:127.0.0.1 - - [13/Jun/2023 16:57:20] \"GET /hint/25 HTTP/1.1\" 200 -\n",
            "INFO:werkzeug:127.0.0.1 - - [13/Jun/2023 16:57:20] \"\u001b[33mGET /word/ibrahimoviparis HTTP/1.1\u001b[0m\" 404 -\n",
            "INFO:werkzeug:127.0.0.1 - - [13/Jun/2023 16:57:25] \"GET /hint/25 HTTP/1.1\" 200 -\n",
            "INFO:werkzeug:127.0.0.1 - - [13/Jun/2023 16:57:26] \"\u001b[33mGET /word/chiese HTTP/1.1\u001b[0m\" 404 -\n",
            "INFO:werkzeug:127.0.0.1 - - [13/Jun/2023 16:57:26] \"GET /hint/25 HTTP/1.1\" 200 -\n",
            "INFO:werkzeug:127.0.0.1 - - [13/Jun/2023 16:57:27] \"\u001b[33mGET /word/ciwaruga HTTP/1.1\u001b[0m\" 404 -\n",
            "INFO:werkzeug:127.0.0.1 - - [13/Jun/2023 16:57:30] \"GET /hint/25 HTTP/1.1\" 200 -\n",
            "INFO:werkzeug:127.0.0.1 - - [13/Jun/2023 16:57:31] \"GET /word/wantilan HTTP/1.1\" 200 -\n",
            "INFO:werkzeug:127.0.0.1 - - [13/Jun/2023 16:57:31] \"GET /rank/wantilan HTTP/1.1\" 200 -\n",
            "INFO:werkzeug:127.0.0.1 - - [13/Jun/2023 16:57:35] \"GET /hint/25 HTTP/1.1\" 200 -\n",
            "INFO:werkzeug:127.0.0.1 - - [13/Jun/2023 16:57:35] \"\u001b[33mGET /word/kebojongan HTTP/1.1\u001b[0m\" 404 -\n",
            "INFO:werkzeug:127.0.0.1 - - [13/Jun/2023 16:57:42] \"GET /regenerate HTTP/1.1\" 200 -\n"
          ]
        },
        {
          "output_type": "stream",
          "name": "stdout",
          "text": [
            "caturwulan\n",
            "<class 'str'>\n"
          ]
        },
        {
          "output_type": "stream",
          "name": "stderr",
          "text": [
            "INFO:werkzeug:127.0.0.1 - - [13/Jun/2023 16:57:44] \"GET /answer HTTP/1.1\" 200 -\n",
            "INFO:werkzeug:127.0.0.1 - - [13/Jun/2023 16:57:48] \"GET /hint/25 HTTP/1.1\" 200 -\n",
            "INFO:werkzeug:127.0.0.1 - - [13/Jun/2023 16:57:49] \"\u001b[33mGET /word/abad-abad HTTP/1.1\u001b[0m\" 404 -\n",
            "INFO:werkzeug:127.0.0.1 - - [13/Jun/2023 16:57:52] \"GET /hint/25 HTTP/1.1\" 200 -\n",
            "INFO:werkzeug:127.0.0.1 - - [13/Jun/2023 16:57:53] \"\u001b[33mGET /word/percubaan HTTP/1.1\u001b[0m\" 404 -\n",
            "INFO:werkzeug:127.0.0.1 - - [13/Jun/2023 16:57:56] \"GET /hint/25 HTTP/1.1\" 200 -\n",
            "INFO:werkzeug:127.0.0.1 - - [13/Jun/2023 16:57:57] \"\u001b[33mGET /word/baleganjur HTTP/1.1\u001b[0m\" 404 -\n",
            "INFO:werkzeug:127.0.0.1 - - [13/Jun/2023 16:58:00] \"GET /hint/25 HTTP/1.1\" 200 -\n",
            "INFO:werkzeug:127.0.0.1 - - [13/Jun/2023 16:58:01] \"\u001b[33mGET /word/percubaan HTTP/1.1\u001b[0m\" 404 -\n",
            "INFO:werkzeug:127.0.0.1 - - [13/Jun/2023 16:58:04] \"GET /hint/25 HTTP/1.1\" 200 -\n",
            "INFO:werkzeug:127.0.0.1 - - [13/Jun/2023 16:58:05] \"\u001b[33mGET /word/lahir-mati HTTP/1.1\u001b[0m\" 404 -\n",
            "INFO:werkzeug:127.0.0.1 - - [13/Jun/2023 16:58:08] \"GET /hint/25 HTTP/1.1\" 200 -\n",
            "INFO:werkzeug:127.0.0.1 - - [13/Jun/2023 16:58:09] \"\u001b[33mGET /word/abad-abad HTTP/1.1\u001b[0m\" 404 -\n",
            "INFO:werkzeug:127.0.0.1 - - [13/Jun/2023 16:58:13] \"GET /hint/25 HTTP/1.1\" 200 -\n",
            "INFO:werkzeug:127.0.0.1 - - [13/Jun/2023 16:58:14] \"\u001b[33mGET /word/organnya HTTP/1.1\u001b[0m\" 404 -\n",
            "INFO:werkzeug:127.0.0.1 - - [13/Jun/2023 16:58:17] \"GET /hint/25 HTTP/1.1\" 200 -\n",
            "INFO:werkzeug:127.0.0.1 - - [13/Jun/2023 16:58:18] \"\u001b[33mGET /word/luhah HTTP/1.1\u001b[0m\" 404 -\n",
            "INFO:werkzeug:127.0.0.1 - - [13/Jun/2023 16:58:21] \"GET /hint/25 HTTP/1.1\" 200 -\n",
            "INFO:werkzeug:127.0.0.1 - - [13/Jun/2023 16:58:21] \"\u001b[33mGET /word/demonikal HTTP/1.1\u001b[0m\" 404 -\n",
            "INFO:werkzeug:127.0.0.1 - - [13/Jun/2023 16:58:26] \"GET /regenerate HTTP/1.1\" 200 -\n"
          ]
        },
        {
          "output_type": "stream",
          "name": "stdout",
          "text": [
            "sudi\n",
            "<class 'str'>\n"
          ]
        },
        {
          "output_type": "stream",
          "name": "stderr",
          "text": [
            "INFO:werkzeug:127.0.0.1 - - [13/Jun/2023 16:58:28] \"GET /answer HTTP/1.1\" 200 -\n",
            "INFO:werkzeug:127.0.0.1 - - [13/Jun/2023 16:58:31] \"GET /regenerate HTTP/1.1\" 200 -\n"
          ]
        },
        {
          "output_type": "stream",
          "name": "stdout",
          "text": [
            "sonokeling\n",
            "<class 'str'>\n"
          ]
        },
        {
          "output_type": "stream",
          "name": "stderr",
          "text": [
            "INFO:werkzeug:127.0.0.1 - - [13/Jun/2023 16:58:33] \"GET /answer HTTP/1.1\" 200 -\n",
            "INFO:werkzeug:127.0.0.1 - - [13/Jun/2023 16:58:36] \"GET /regenerate HTTP/1.1\" 200 -\n"
          ]
        },
        {
          "output_type": "stream",
          "name": "stdout",
          "text": [
            "stratovolkano\n",
            "<class 'str'>\n"
          ]
        },
        {
          "output_type": "stream",
          "name": "stderr",
          "text": [
            "INFO:werkzeug:127.0.0.1 - - [13/Jun/2023 16:58:37] \"GET /answer HTTP/1.1\" 200 -\n",
            "INFO:werkzeug:127.0.0.1 - - [13/Jun/2023 16:58:42] \"GET /hint/25 HTTP/1.1\" 200 -\n",
            "INFO:werkzeug:127.0.0.1 - - [13/Jun/2023 16:58:43] \"GET /word/analgesik HTTP/1.1\" 200 -\n",
            "INFO:werkzeug:127.0.0.1 - - [13/Jun/2023 16:58:44] \"GET /rank/analgesik HTTP/1.1\" 200 -\n",
            "INFO:werkzeug:127.0.0.1 - - [13/Jun/2023 16:58:46] \"GET /hint/25 HTTP/1.1\" 200 -\n",
            "INFO:werkzeug:127.0.0.1 - - [13/Jun/2023 16:58:47] \"\u001b[33mGET /word/esculentum HTTP/1.1\u001b[0m\" 404 -\n",
            "INFO:werkzeug:127.0.0.1 - - [13/Jun/2023 16:58:50] \"GET /hint/25 HTTP/1.1\" 200 -\n",
            "INFO:werkzeug:127.0.0.1 - - [13/Jun/2023 16:58:51] \"\u001b[33mGET /word/orkestral HTTP/1.1\u001b[0m\" 404 -\n",
            "INFO:werkzeug:127.0.0.1 - - [13/Jun/2023 16:58:54] \"GET /hint/25 HTTP/1.1\" 200 -\n",
            "INFO:werkzeug:127.0.0.1 - - [13/Jun/2023 16:58:55] \"GET /word/kastanyet HTTP/1.1\" 200 -\n",
            "INFO:werkzeug:127.0.0.1 - - [13/Jun/2023 16:58:56] \"GET /rank/kastanyet HTTP/1.1\" 200 -\n",
            "INFO:werkzeug:127.0.0.1 - - [13/Jun/2023 16:58:59] \"GET /hint/25 HTTP/1.1\" 200 -\n",
            "INFO:werkzeug:127.0.0.1 - - [13/Jun/2023 16:59:00] \"GET /word/mutagen HTTP/1.1\" 200 -\n",
            "INFO:werkzeug:127.0.0.1 - - [13/Jun/2023 16:59:01] \"GET /rank/mutagen HTTP/1.1\" 200 -\n",
            "INFO:werkzeug:127.0.0.1 - - [13/Jun/2023 16:59:05] \"GET /word/ganja HTTP/1.1\" 200 -\n",
            "INFO:werkzeug:127.0.0.1 - - [13/Jun/2023 16:59:06] \"GET /rank/ganja HTTP/1.1\" 200 -\n",
            "INFO:werkzeug:127.0.0.1 - - [13/Jun/2023 16:59:09] \"GET /word/obat HTTP/1.1\" 200 -\n",
            "INFO:werkzeug:127.0.0.1 - - [13/Jun/2023 16:59:10] \"GET /rank/obat HTTP/1.1\" 200 -\n",
            "INFO:werkzeug:127.0.0.1 - - [13/Jun/2023 16:59:13] \"GET /word/kimia HTTP/1.1\" 200 -\n",
            "INFO:werkzeug:127.0.0.1 - - [13/Jun/2023 16:59:14] \"GET /rank/kimia HTTP/1.1\" 200 -\n",
            "INFO:werkzeug:127.0.0.1 - - [13/Jun/2023 16:59:17] \"GET /word/bius HTTP/1.1\" 200 -\n",
            "INFO:werkzeug:127.0.0.1 - - [13/Jun/2023 16:59:18] \"GET /rank/bius HTTP/1.1\" 200 -\n",
            "INFO:werkzeug:127.0.0.1 - - [13/Jun/2023 16:59:21] \"GET /word/narkoba HTTP/1.1\" 200 -\n",
            "INFO:werkzeug:127.0.0.1 - - [13/Jun/2023 16:59:22] \"GET /rank/narkoba HTTP/1.1\" 200 -\n",
            "INFO:werkzeug:127.0.0.1 - - [13/Jun/2023 16:59:54] \"GET /word/opium HTTP/1.1\" 200 -\n",
            "INFO:werkzeug:127.0.0.1 - - [13/Jun/2023 16:59:55] \"GET /rank/opium HTTP/1.1\" 200 -\n",
            "INFO:werkzeug:127.0.0.1 - - [13/Jun/2023 17:00:04] \"GET /regenerate HTTP/1.1\" 200 -\n"
          ]
        },
        {
          "output_type": "stream",
          "name": "stdout",
          "text": [
            "parafin\n",
            "<class 'str'>\n"
          ]
        },
        {
          "output_type": "stream",
          "name": "stderr",
          "text": [
            "INFO:werkzeug:127.0.0.1 - - [13/Jun/2023 17:00:06] \"GET /answer HTTP/1.1\" 200 -\n",
            "INFO:werkzeug:127.0.0.1 - - [13/Jun/2023 17:00:10] \"GET /regenerate HTTP/1.1\" 200 -\n"
          ]
        },
        {
          "output_type": "stream",
          "name": "stdout",
          "text": [
            "kilokalori\n",
            "<class 'str'>\n"
          ]
        },
        {
          "output_type": "stream",
          "name": "stderr",
          "text": [
            "INFO:werkzeug:127.0.0.1 - - [13/Jun/2023 17:00:11] \"GET /answer HTTP/1.1\" 200 -\n",
            "INFO:werkzeug:127.0.0.1 - - [13/Jun/2023 17:00:14] \"GET /regenerate HTTP/1.1\" 200 -\n"
          ]
        },
        {
          "output_type": "stream",
          "name": "stdout",
          "text": [
            "pembunuhan\n",
            "<class 'str'>\n"
          ]
        },
        {
          "output_type": "stream",
          "name": "stderr",
          "text": [
            "INFO:werkzeug:127.0.0.1 - - [13/Jun/2023 17:00:16] \"GET /answer HTTP/1.1\" 200 -\n",
            "INFO:werkzeug:127.0.0.1 - - [13/Jun/2023 17:00:34] \"GET /hint/25 HTTP/1.1\" 200 -\n",
            "INFO:werkzeug:127.0.0.1 - - [13/Jun/2023 17:00:35] \"GET /word/penyiksaan HTTP/1.1\" 200 -\n",
            "INFO:werkzeug:127.0.0.1 - - [13/Jun/2023 17:00:36] \"GET /rank/penyiksaan HTTP/1.1\" 200 -\n",
            "INFO:werkzeug:127.0.0.1 - - [13/Jun/2023 17:00:39] \"GET /hint/25 HTTP/1.1\" 200 -\n",
            "INFO:werkzeug:127.0.0.1 - - [13/Jun/2023 17:00:40] \"\u001b[33mGET /word/pemerkosaan HTTP/1.1\u001b[0m\" 404 -\n",
            "INFO:werkzeug:127.0.0.1 - - [13/Jun/2023 17:00:43] \"GET /hint/25 HTTP/1.1\" 200 -\n",
            "INFO:werkzeug:127.0.0.1 - - [13/Jun/2023 17:00:44] \"GET /word/peristiwa HTTP/1.1\" 200 -\n",
            "INFO:werkzeug:127.0.0.1 - - [13/Jun/2023 17:00:45] \"GET /rank/peristiwa HTTP/1.1\" 200 -\n",
            "INFO:werkzeug:127.0.0.1 - - [13/Jun/2023 17:00:48] \"GET /hint/25 HTTP/1.1\" 200 -\n",
            "INFO:werkzeug:127.0.0.1 - - [13/Jun/2023 17:00:49] \"GET /word/terlibat HTTP/1.1\" 200 -\n",
            "INFO:werkzeug:127.0.0.1 - - [13/Jun/2023 17:00:50] \"GET /rank/terlibat HTTP/1.1\" 200 -\n",
            "INFO:werkzeug:127.0.0.1 - - [13/Jun/2023 17:00:53] \"GET /hint/25 HTTP/1.1\" 200 -\n",
            "INFO:werkzeug:127.0.0.1 - - [13/Jun/2023 17:00:54] \"\u001b[33mGET /word/tindakan HTTP/1.1\u001b[0m\" 404 -\n",
            "INFO:werkzeug:127.0.0.1 - - [13/Jun/2023 17:00:57] \"GET /hint/25 HTTP/1.1\" 200 -\n",
            "INFO:werkzeug:127.0.0.1 - - [13/Jun/2023 17:00:57] \"\u001b[33mGET /word/kejahatan HTTP/1.1\u001b[0m\" 404 -\n",
            "INFO:werkzeug:127.0.0.1 - - [13/Jun/2023 17:01:01] \"GET /hint/25 HTTP/1.1\" 200 -\n",
            "INFO:werkzeug:127.0.0.1 - - [13/Jun/2023 17:01:02] \"\u001b[33mGET /word/tersangka HTTP/1.1\u001b[0m\" 404 -\n",
            "INFO:werkzeug:127.0.0.1 - - [13/Jun/2023 17:02:47] \"GET /word/kata HTTP/1.1\" 200 -\n",
            "INFO:werkzeug:127.0.0.1 - - [13/Jun/2023 17:02:48] \"GET /rank/kata HTTP/1.1\" 200 -\n",
            "INFO:werkzeug:127.0.0.1 - - [13/Jun/2023 17:02:51] \"GET /word/benda HTTP/1.1\" 200 -\n",
            "INFO:werkzeug:127.0.0.1 - - [13/Jun/2023 17:02:52] \"GET /rank/benda HTTP/1.1\" 200 -\n",
            "INFO:werkzeug:127.0.0.1 - - [13/Jun/2023 17:02:55] \"GET /word/benda HTTP/1.1\" 200 -\n",
            "INFO:werkzeug:127.0.0.1 - - [13/Jun/2023 17:02:56] \"GET /rank/benda HTTP/1.1\" 200 -\n",
            "INFO:werkzeug:127.0.0.1 - - [13/Jun/2023 17:04:33] \"GET /word/aku HTTP/1.1\" 200 -\n",
            "INFO:werkzeug:127.0.0.1 - - [13/Jun/2023 17:04:34] \"GET /rank/aku HTTP/1.1\" 200 -\n",
            "INFO:werkzeug:127.0.0.1 - - [13/Jun/2023 17:04:37] \"GET /word/aku HTTP/1.1\" 200 -\n",
            "INFO:werkzeug:127.0.0.1 - - [13/Jun/2023 17:04:38] \"GET /rank/aku HTTP/1.1\" 200 -\n",
            "INFO:werkzeug:127.0.0.1 - - [13/Jun/2023 17:05:27] \"GET /word/aku HTTP/1.1\" 200 -\n",
            "INFO:werkzeug:127.0.0.1 - - [13/Jun/2023 17:05:28] \"GET /rank/aku HTTP/1.1\" 200 -\n",
            "INFO:werkzeug:127.0.0.1 - - [13/Jun/2023 17:05:31] \"GET /word/aku HTTP/1.1\" 200 -\n",
            "INFO:werkzeug:127.0.0.1 - - [13/Jun/2023 17:05:32] \"GET /rank/aku HTTP/1.1\" 200 -\n",
            "INFO:werkzeug:127.0.0.1 - - [13/Jun/2023 17:05:39] \"GET /word/makan HTTP/1.1\" 200 -\n",
            "INFO:werkzeug:127.0.0.1 - - [13/Jun/2023 17:05:40] \"GET /rank/makan HTTP/1.1\" 200 -\n",
            "INFO:werkzeug:127.0.0.1 - - [13/Jun/2023 17:05:43] \"GET /word/makan HTTP/1.1\" 200 -\n",
            "INFO:werkzeug:127.0.0.1 - - [13/Jun/2023 17:05:44] \"GET /rank/makan HTTP/1.1\" 200 -\n",
            "INFO:werkzeug:127.0.0.1 - - [13/Jun/2023 17:06:43] \"GET /word/aku HTTP/1.1\" 200 -\n",
            "INFO:werkzeug:127.0.0.1 - - [13/Jun/2023 17:06:44] \"GET /rank/aku HTTP/1.1\" 200 -\n",
            "INFO:werkzeug:127.0.0.1 - - [13/Jun/2023 17:06:47] \"GET /word/kata HTTP/1.1\" 200 -\n",
            "INFO:werkzeug:127.0.0.1 - - [13/Jun/2023 17:06:48] \"GET /rank/kata HTTP/1.1\" 200 -\n",
            "INFO:werkzeug:127.0.0.1 - - [13/Jun/2023 17:06:52] \"GET /word/makan HTTP/1.1\" 200 -\n",
            "INFO:werkzeug:127.0.0.1 - - [13/Jun/2023 17:06:53] \"GET /rank/makan HTTP/1.1\" 200 -\n",
            "INFO:werkzeug:127.0.0.1 - - [13/Jun/2023 17:07:00] \"GET /hint/25 HTTP/1.1\" 200 -\n",
            "INFO:werkzeug:127.0.0.1 - - [13/Jun/2023 17:07:00] \"\u001b[33mGET /word/dibunuh HTTP/1.1\u001b[0m\" 404 -\n",
            "INFO:werkzeug:127.0.0.1 - - [13/Jun/2023 17:07:04] \"GET /hint/25 HTTP/1.1\" 200 -\n",
            "INFO:werkzeug:127.0.0.1 - - [13/Jun/2023 17:07:05] \"GET /word/penembakan HTTP/1.1\" 200 -\n",
            "INFO:werkzeug:127.0.0.1 - - [13/Jun/2023 17:07:06] \"GET /rank/penembakan HTTP/1.1\" 200 -\n",
            "INFO:werkzeug:127.0.0.1 - - [13/Jun/2023 17:07:11] \"GET /word/sadis HTTP/1.1\" 200 -\n",
            "INFO:werkzeug:127.0.0.1 - - [13/Jun/2023 17:07:12] \"GET /rank/sadis HTTP/1.1\" 200 -\n",
            "INFO:werkzeug:127.0.0.1 - - [13/Jun/2023 17:07:15] \"GET /hint/25 HTTP/1.1\" 200 -\n",
            "INFO:werkzeug:127.0.0.1 - - [13/Jun/2023 17:07:16] \"GET /word/penembakan HTTP/1.1\" 200 -\n",
            "INFO:werkzeug:127.0.0.1 - - [13/Jun/2023 17:07:17] \"GET /rank/penembakan HTTP/1.1\" 200 -\n",
            "INFO:werkzeug:127.0.0.1 - - [13/Jun/2023 17:07:21] \"GET /hint/25 HTTP/1.1\" 200 -\n",
            "INFO:werkzeug:127.0.0.1 - - [13/Jun/2023 17:07:22] \"GET /word/kematian HTTP/1.1\" 200 -\n",
            "INFO:werkzeug:127.0.0.1 - - [13/Jun/2023 17:07:23] \"GET /rank/kematian HTTP/1.1\" 200 -\n",
            "INFO:werkzeug:127.0.0.1 - - [13/Jun/2023 17:07:33] \"GET /hint/25 HTTP/1.1\" 200 -\n",
            "INFO:werkzeug:127.0.0.1 - - [13/Jun/2023 17:07:34] \"\u001b[33mGET /word/dibunuh HTTP/1.1\u001b[0m\" 404 -\n",
            "INFO:werkzeug:127.0.0.1 - - [13/Jun/2023 17:11:14] \"GET /word/benda HTTP/1.1\" 200 -\n",
            "INFO:werkzeug:127.0.0.1 - - [13/Jun/2023 17:11:15] \"GET /rank/benda HTTP/1.1\" 200 -\n",
            "INFO:werkzeug:127.0.0.1 - - [13/Jun/2023 17:11:24] \"GET /hint/25 HTTP/1.1\" 200 -\n",
            "INFO:werkzeug:127.0.0.1 - - [13/Jun/2023 17:11:25] \"GET /word/peristiwa HTTP/1.1\" 200 -\n",
            "INFO:werkzeug:127.0.0.1 - - [13/Jun/2023 17:11:25] \"GET /rank/peristiwa HTTP/1.1\" 200 -\n",
            "INFO:werkzeug:127.0.0.1 - - [13/Jun/2023 17:11:33] \"\u001b[33mGET /word/tkp HTTP/1.1\u001b[0m\" 404 -\n",
            "INFO:werkzeug:127.0.0.1 - - [13/Jun/2023 17:11:40] \"GET /word/keamanan HTTP/1.1\" 200 -\n",
            "INFO:werkzeug:127.0.0.1 - - [13/Jun/2023 17:11:41] \"GET /rank/keamanan HTTP/1.1\" 200 -\n",
            "INFO:werkzeug:127.0.0.1 - - [13/Jun/2023 17:11:49] \"GET /word/pembunuhan HTTP/1.1\" 200 -\n",
            "INFO:werkzeug:127.0.0.1 - - [13/Jun/2023 17:11:50] \"GET /rank/pembunuhan HTTP/1.1\" 200 -\n",
            "INFO:werkzeug:127.0.0.1 - - [13/Jun/2023 17:16:51] \"GET /word/pembunuhan HTTP/1.1\" 200 -\n",
            "INFO:werkzeug:127.0.0.1 - - [13/Jun/2023 17:16:52] \"GET /rank/pembunuhan HTTP/1.1\" 200 -\n",
            "INFO:werkzeug:127.0.0.1 - - [13/Jun/2023 17:17:15] \"\u001b[33mGET /word/pembuhuhan HTTP/1.1\u001b[0m\" 404 -\n",
            "INFO:werkzeug:127.0.0.1 - - [13/Jun/2023 17:17:22] \"GET /word/pembunuhan HTTP/1.1\" 200 -\n",
            "INFO:werkzeug:127.0.0.1 - - [13/Jun/2023 17:17:23] \"GET /rank/pembunuhan HTTP/1.1\" 200 -\n",
            "INFO:werkzeug:127.0.0.1 - - [13/Jun/2023 17:17:53] \"GET /word/pembunuhan HTTP/1.1\" 200 -\n",
            "INFO:werkzeug:127.0.0.1 - - [13/Jun/2023 17:17:54] \"GET /rank/pembunuhan HTTP/1.1\" 200 -\n",
            "INFO:werkzeug:127.0.0.1 - - [13/Jun/2023 17:18:34] \"GET /word/pembunuhan HTTP/1.1\" 200 -\n",
            "INFO:werkzeug:127.0.0.1 - - [13/Jun/2023 17:18:35] \"GET /rank/pembunuhan HTTP/1.1\" 200 -\n",
            "INFO:werkzeug:127.0.0.1 - - [13/Jun/2023 17:18:47] \"GET /word/pembunuhan HTTP/1.1\" 200 -\n",
            "INFO:werkzeug:127.0.0.1 - - [13/Jun/2023 17:18:48] \"GET /rank/pembunuhan HTTP/1.1\" 200 -\n",
            "INFO:werkzeug:127.0.0.1 - - [13/Jun/2023 17:22:22] \"GET /word/pembunuhan HTTP/1.1\" 200 -\n",
            "INFO:werkzeug:127.0.0.1 - - [13/Jun/2023 17:22:23] \"GET /rank/pembunuhan HTTP/1.1\" 200 -\n",
            "INFO:werkzeug:127.0.0.1 - - [13/Jun/2023 17:22:30] \"GET /regenerate HTTP/1.1\" 200 -\n"
          ]
        },
        {
          "output_type": "stream",
          "name": "stdout",
          "text": [
            "putra\n",
            "<class 'str'>\n"
          ]
        },
        {
          "output_type": "stream",
          "name": "stderr",
          "text": [
            "INFO:werkzeug:127.0.0.1 - - [13/Jun/2023 17:22:37] \"GET /word/pembunuhan HTTP/1.1\" 200 -\n",
            "INFO:werkzeug:127.0.0.1 - - [13/Jun/2023 17:22:38] \"GET /rank/pembunuhan HTTP/1.1\" 200 -\n",
            "INFO:werkzeug:127.0.0.1 - - [13/Jun/2023 17:22:43] \"GET /word/nasi HTTP/1.1\" 200 -\n",
            "INFO:werkzeug:127.0.0.1 - - [13/Jun/2023 17:22:44] \"GET /rank/nasi HTTP/1.1\" 200 -\n",
            "INFO:werkzeug:127.0.0.1 - - [13/Jun/2023 17:22:48] \"GET /hint/25 HTTP/1.1\" 200 -\n",
            "INFO:werkzeug:127.0.0.1 - - [13/Jun/2023 17:22:49] \"\u001b[33mGET /word/kedua HTTP/1.1\u001b[0m\" 404 -\n",
            "INFO:werkzeug:127.0.0.1 - - [13/Jun/2023 17:22:54] \"GET /hint/25 HTTP/1.1\" 200 -\n",
            "INFO:werkzeug:127.0.0.1 - - [13/Jun/2023 17:22:55] \"GET /word/ayah HTTP/1.1\" 200 -\n",
            "INFO:werkzeug:127.0.0.1 - - [13/Jun/2023 17:22:55] \"GET /rank/ayah HTTP/1.1\" 200 -\n",
            "INFO:werkzeug:127.0.0.1 - - [13/Jun/2023 17:23:02] \"GET /word/keluarga HTTP/1.1\" 200 -\n",
            "INFO:werkzeug:127.0.0.1 - - [13/Jun/2023 17:23:03] \"GET /rank/keluarga HTTP/1.1\" 200 -\n",
            "INFO:werkzeug:127.0.0.1 - - [13/Jun/2023 17:23:06] \"GET /word/ibu HTTP/1.1\" 200 -\n",
            "INFO:werkzeug:127.0.0.1 - - [13/Jun/2023 17:23:07] \"GET /rank/ibu HTTP/1.1\" 200 -\n",
            "INFO:werkzeug:127.0.0.1 - - [13/Jun/2023 17:23:11] \"GET /word/pria HTTP/1.1\" 200 -\n",
            "INFO:werkzeug:127.0.0.1 - - [13/Jun/2023 17:23:12] \"GET /rank/pria HTTP/1.1\" 200 -\n",
            "INFO:werkzeug:127.0.0.1 - - [13/Jun/2023 17:23:14] \"GET /word/suami HTTP/1.1\" 200 -\n",
            "INFO:werkzeug:127.0.0.1 - - [13/Jun/2023 17:23:15] \"GET /rank/suami HTTP/1.1\" 200 -\n",
            "INFO:werkzeug:127.0.0.1 - - [13/Jun/2023 17:23:21] \"\u001b[33mGET /word/laki-laki HTTP/1.1\u001b[0m\" 404 -\n",
            "INFO:werkzeug:127.0.0.1 - - [13/Jun/2023 17:23:26] \"GET /word/jantan HTTP/1.1\" 200 -\n",
            "INFO:werkzeug:127.0.0.1 - - [13/Jun/2023 17:23:27] \"GET /rank/jantan HTTP/1.1\" 200 -\n",
            "INFO:werkzeug:127.0.0.1 - - [13/Jun/2023 17:23:30] \"GET /hint/25 HTTP/1.1\" 200 -\n",
            "INFO:werkzeug:127.0.0.1 - - [13/Jun/2023 17:23:31] \"\u001b[33mGET /word/iii HTTP/1.1\u001b[0m\" 404 -\n",
            "INFO:werkzeug:127.0.0.1 - - [13/Jun/2023 17:23:34] \"GET /hint/25 HTTP/1.1\" 200 -\n",
            "INFO:werkzeug:127.0.0.1 - - [13/Jun/2023 17:23:35] \"\u001b[33mGET /word/iii HTTP/1.1\u001b[0m\" 404 -\n",
            "INFO:werkzeug:127.0.0.1 - - [13/Jun/2023 17:23:40] \"GET /answer HTTP/1.1\" 200 -\n",
            "INFO:werkzeug:127.0.0.1 - - [13/Jun/2023 17:23:45] \"GET /hint/25 HTTP/1.1\" 200 -\n",
            "INFO:werkzeug:127.0.0.1 - - [13/Jun/2023 17:31:59] \"GET /word/jantan HTTP/1.1\" 200 -\n",
            "INFO:werkzeug:127.0.0.1 - - [13/Jun/2023 17:32:00] \"GET /rank/jantan HTTP/1.1\" 200 -\n",
            "INFO:werkzeug:127.0.0.1 - - [13/Jun/2023 17:32:26] \"GET /word/ayah HTTP/1.1\" 200 -\n",
            "INFO:werkzeug:127.0.0.1 - - [13/Jun/2023 17:32:27] \"GET /rank/ayah HTTP/1.1\" 200 -\n",
            "INFO:werkzeug:127.0.0.1 - - [13/Jun/2023 17:34:04] \"GET /word/ayah HTTP/1.1\" 200 -\n",
            "INFO:werkzeug:127.0.0.1 - - [13/Jun/2023 17:34:05] \"GET /rank/ayah HTTP/1.1\" 200 -\n",
            "INFO:werkzeug:127.0.0.1 - - [13/Jun/2023 17:36:24] \"GET /word/ayah HTTP/1.1\" 200 -\n",
            "INFO:werkzeug:127.0.0.1 - - [13/Jun/2023 17:36:25] \"GET /rank/ayah HTTP/1.1\" 200 -\n",
            "INFO:werkzeug:127.0.0.1 - - [13/Jun/2023 17:36:39] \"GET /word/ayah HTTP/1.1\" 200 -\n",
            "INFO:werkzeug:127.0.0.1 - - [13/Jun/2023 17:36:40] \"GET /rank/ayah HTTP/1.1\" 200 -\n",
            "INFO:werkzeug:127.0.0.1 - - [13/Jun/2023 17:36:44] \"GET /word/ibu HTTP/1.1\" 200 -\n",
            "INFO:werkzeug:127.0.0.1 - - [13/Jun/2023 17:36:45] \"GET /rank/ibu HTTP/1.1\" 200 -\n",
            "INFO:werkzeug:127.0.0.1 - - [13/Jun/2023 17:36:48] \"GET /word/kakak HTTP/1.1\" 200 -\n",
            "INFO:werkzeug:127.0.0.1 - - [13/Jun/2023 17:36:49] \"GET /rank/kakak HTTP/1.1\" 200 -\n",
            "INFO:werkzeug:127.0.0.1 - - [13/Jun/2023 17:36:52] \"GET /hint/25 HTTP/1.1\" 200 -\n",
            "INFO:werkzeug:127.0.0.1 - - [13/Jun/2023 17:36:53] \"\u001b[33mGET /word/kedua HTTP/1.1\u001b[0m\" 404 -\n",
            "INFO:werkzeug:127.0.0.1 - - [13/Jun/2023 17:36:57] \"GET /hint/25 HTTP/1.1\" 200 -\n",
            "INFO:werkzeug:127.0.0.1 - - [13/Jun/2023 17:36:57] \"\u001b[33mGET /word/pewaris HTTP/1.1\u001b[0m\" 404 -\n",
            "INFO:werkzeug:127.0.0.1 - - [13/Jun/2023 17:37:03] \"GET /word/kakak HTTP/1.1\" 200 -\n",
            "INFO:werkzeug:127.0.0.1 - - [13/Jun/2023 17:37:04] \"GET /rank/kakak HTTP/1.1\" 200 -\n",
            "INFO:werkzeug:127.0.0.1 - - [13/Jun/2023 17:37:09] \"GET /word/putra HTTP/1.1\" 200 -\n",
            "INFO:werkzeug:127.0.0.1 - - [13/Jun/2023 17:37:10] \"GET /rank/putra HTTP/1.1\" 200 -\n",
            "INFO:werkzeug:127.0.0.1 - - [13/Jun/2023 17:37:17] \"GET /regenerate HTTP/1.1\" 200 -\n"
          ]
        },
        {
          "output_type": "stream",
          "name": "stdout",
          "text": [
            "penuntasan\n",
            "<class 'str'>\n"
          ]
        }
      ]
    }
  ]
}